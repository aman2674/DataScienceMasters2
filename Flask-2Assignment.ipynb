{
 "cells": [
  {
   "cell_type": "markdown",
   "id": "20895047",
   "metadata": {},
   "source": [
    "# Flask-2 Assignment\n"
   ]
  },
  {
   "cell_type": "markdown",
   "id": "51ccae5d",
   "metadata": {},
   "source": [
    "### Q1. Explain GET and POST methods.\n",
    "\n",
    "- **GET Method:**\n",
    "  - It is a type of HTTP request method used to request data from a specified resource.\n",
    "  - It appends data to the URL in the form of query parameters.\n",
    "  - It is generally used for fetching information and should have no other effect on the data.\n",
    "\n",
    "- **POST Method:**\n",
    "  - It is another HTTP request method used to submit data to be processed to a specified resource.\n",
    "  - Data is sent in the body of the HTTP request, not in the URL.\n",
    "  - It is often used for submitting forms and uploading files.\n",
    "\n",
    "### Q2. Why is request used in Flask?\n",
    "\n",
    "- In Flask, the `request` object is used to access incoming request data such as form data, query parameters, and file uploads.\n",
    "- It provides an interface to interact with the data sent by the client (browser) to the server.\n",
    "- `request` allows you to access information like form data, JSON data, cookies, headers, and more.\n",
    "\n",
    "### Q3. Why is redirect() used in Flask?\n",
    "\n",
    "- The `redirect()` function in Flask is used to redirect the client (usually a web browser) to a different URL.\n",
    "- It is commonly used after processing a form submission or performing some action to redirect the user to a different page.\n",
    "\n",
    "## Q4. What are templates in Flask? Why is the render_template() function used?\n",
    "\n",
    "- Templates in Flask are used to separate the presentation layer (HTML) from the business logic of the application.\n",
    "- The `render_template()` function in Flask is used to render HTML templates.\n",
    "- It takes the name of the template file and any additional variables needed for rendering the template.\n",
    "- This function allows you to create dynamic HTML pages by passing data from your Python code to the HTML templates.\n",
    "\n",
    "### Q5. Create a simple API. Use Postman to test it. Attach the screenshot of the output in the Jupyter Notebook.\n"
   ]
  },
  {
   "cell_type": "code",
   "execution_count": null,
   "id": "de49c11c",
   "metadata": {},
   "outputs": [],
   "source": [
    "from flask import Flask, request,jsonify\n",
    "\n",
    "app = Flask(__name__)\n",
    "@app.route(\"/postman_call\",methods=['POST'])\n",
    "def postman_call():\n",
    "    if (request.method == 'POST'):\n",
    "        name = request.json['name']\n",
    "        age = request.json['age']\n",
    "        city = request.json['city']\n",
    "        result = \"Name:- {}, Age:- {}, City:- {}\".format(name,age,city)\n",
    "        return jsonify(result)\n",
    "\n",
    "if __name__ == \"__main__\":\n",
    "    app.run(debug=True)"
   ]
  },
  {
   "cell_type": "markdown",
   "id": "ba275422",
   "metadata": {},
   "source": [
    "![flask screenshot](f4.png)"
   ]
  }
 ],
 "metadata": {
  "kernelspec": {
   "display_name": "Python 3 (ipykernel)",
   "language": "python",
   "name": "python3"
  },
  "language_info": {
   "codemirror_mode": {
    "name": "ipython",
    "version": 3
   },
   "file_extension": ".py",
   "mimetype": "text/x-python",
   "name": "python",
   "nbconvert_exporter": "python",
   "pygments_lexer": "ipython3",
   "version": "3.8.16"
  }
 },
 "nbformat": 4,
 "nbformat_minor": 5
}
