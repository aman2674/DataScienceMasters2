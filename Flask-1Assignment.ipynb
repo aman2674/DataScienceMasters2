{
 "cells": [
  {
   "cell_type": "markdown",
   "id": "7dd33ad0",
   "metadata": {},
   "source": [
    "# Flask-1 Assignment"
   ]
  },
  {
   "cell_type": "markdown",
   "id": "66615bd8",
   "metadata": {},
   "source": [
    "### Q1. What is Flask Framework? What are the advantages of Flask Framework?\n",
    "\n",
    "**Flask Framework:**\n",
    "Flask is a micro web framework for Python, designed to be simple, lightweight, and easy to use. It is often referred to as a \"micro\" framework because it does not provide tools and libraries for tasks like form validation, database abstraction, or authentication. Instead, Flask allows developers to choose and use their preferred libraries, making it flexible and extensible.\n",
    "\n",
    "**Advantages of Flask Framework:**\n",
    "1. **Lightweight:** Flask is minimalistic and does not have strict dependencies, making it easy to learn and use.\n",
    "2. **Flexibility:** Developers have the freedom to choose components like databases, ORMs, and form validation libraries according to their preferences.\n",
    "3. **Easy to Understand:** The simplicity of Flask's design and codebase makes it easy for beginners to understand and start building web applications.\n",
    "4. **Extensibility:** Flask can be extended by integrating various third-party extensions, enabling additional functionalities.\n",
    "5. **Widely Adopted:** Flask is widely adopted in the Python community and has a large ecosystem of extensions and resources.\n",
    "6. **Built-in Development Server:** Flask comes with a built-in development server, allowing developers to quickly test their applications.\n",
    "\n",
    "\n",
    "### Q2. Create a simple Flask application to display ‘Hello World!!’. Attach the screenshot of the output in Jupyter Notebook.\n"
   ]
  },
  {
   "cell_type": "code",
   "execution_count": null,
   "id": "e11d7432",
   "metadata": {},
   "outputs": [],
   "source": [
    "from flask import Flask\n",
    "app = Flask(__name__)\n",
    "@app.route(\"/\")\n",
    "def helloWorld():\n",
    "    return \"Hello World!!\"\n",
    "if __name__ == \"__main__\":\n",
    "    app.run(debug=True)"
   ]
  },
  {
   "cell_type": "markdown",
   "id": "ec23122e",
   "metadata": {},
   "source": [
    "![Flask Screenshot](f1.jpg)"
   ]
  },
  {
   "cell_type": "markdown",
   "id": "3841479d",
   "metadata": {},
   "source": [
    "### Q3. What is App routing in Flask? Why do we use app routes?\n",
    "\n",
    "**App Routing in Flask:**\n",
    "App routing in Flask refers to the process of defining URL patterns (routes) for different parts of the application. It involves associating a URL with a specific function or view in the Flask application. This is achieved using the `@app.route` decorator.\n",
    "\n",
    "**Purpose of App Routes:**\n",
    "1. **URL Mapping:** App routes map URLs to corresponding views or functions, allowing the application to respond to specific requests.\n",
    "2. **Request Handling:** App routes define how the application handles different types of HTTP requests (GET, POST, etc.) for specific URLs.\n",
    "3. **Organizing Code:** App routes help organize the code by associating specific functionalities with specific URLs, making the codebase more maintainable.\n",
    "4. **Modular Development:** Routes facilitate modular development, allowing different developers to work on different parts of the application without conflicts.\n",
    "5. **Readability:** App routes enhance code readability by clearly indicating the URL structure and associated functionalities.\n",
    "\n",
    "### Q4. Create a “/welcome” route to display the welcome message “Welcome to ABC Corporation” and a “/” route to show the following details:\n",
    "Company Name: ABC Corporation\n",
    "Location: India\n",
    "Contact Detail: 999-999-9999\n"
   ]
  },
  {
   "cell_type": "code",
   "execution_count": null,
   "id": "f76e5a38",
   "metadata": {},
   "outputs": [],
   "source": [
    "from flask import Flask\n",
    "app = Flask(__name__)\n",
    "@app.route(\"/\")\n",
    "def home():\n",
    "    return '''\n",
    "    Company Name: ABC Corporation /n\n",
    "    Location: India /n\n",
    "    Contact Detail: 999-999-9999\n",
    "    '''\n",
    "@app.route(\"/welcome\")\n",
    "def welcome():\n",
    "    return \"Welcome to ABC Corporation\"\n",
    "if __name__ == \"__main__\":\n",
    "    app.run(debug=True)"
   ]
  },
  {
   "cell_type": "markdown",
   "id": "4f2a740f",
   "metadata": {},
   "source": [
    "![flask screenshot](f2.png)\n",
    "![flask screenshot](f3.png)"
   ]
  },
  {
   "cell_type": "markdown",
   "id": "74abc493",
   "metadata": {},
   "source": [
    "### Q5. What function is used in Flask for URL Building? Write a Python code to demonstrate the working of the url_for() function\n",
    "**Ans:-**\n",
    "The `url_for()` function in Flask is used for URL building. It generates a URL for a specific endpoint (function) defined in the application. This is particularly useful as it allows changes to the URL structure without having to update URLs throughout the application manually.\n"
   ]
  },
  {
   "cell_type": "code",
   "execution_count": 5,
   "id": "58dbd200",
   "metadata": {},
   "outputs": [
    {
     "name": "stdout",
     "output_type": "stream",
     "text": [
      "/\n",
      "/about\n",
      "/contact\n"
     ]
    }
   ],
   "source": [
    "from flask import Flask, url_for\n",
    "\n",
    "app = Flask(__name__)\n",
    "\n",
    "@app.route('/')\n",
    "def home():\n",
    "    return 'Home Page'\n",
    "\n",
    "@app.route('/about')\n",
    "def about():\n",
    "    return 'About Page'\n",
    "\n",
    "@app.route('/contact')\n",
    "def contact():\n",
    "    return 'Contact Page'\n",
    "\n",
    "if __name__ == '__main__':\n",
    "    with app.test_request_context():\n",
    "        print(url_for('home'))     # Output: /\n",
    "        print(url_for('about'))    # Output: /about\n",
    "        print(url_for('contact'))  # Output: /contact"
   ]
  }
 ],
 "metadata": {
  "kernelspec": {
   "display_name": "Python 3 (ipykernel)",
   "language": "python",
   "name": "python3"
  },
  "language_info": {
   "codemirror_mode": {
    "name": "ipython",
    "version": 3
   },
   "file_extension": ".py",
   "mimetype": "text/x-python",
   "name": "python",
   "nbconvert_exporter": "python",
   "pygments_lexer": "ipython3",
   "version": "3.8.16"
  }
 },
 "nbformat": 4,
 "nbformat_minor": 5
}
