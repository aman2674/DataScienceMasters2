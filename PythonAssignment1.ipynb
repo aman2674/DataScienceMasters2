{
 "cells": [
  {
   "cell_type": "markdown",
   "id": "ebd984b2-d4a6-4f19-bf94-2fa9d9552c51",
   "metadata": {},
   "source": [
    "## Python Assignment 1"
   ]
  },
  {
   "cell_type": "markdown",
   "id": "9221a3d2-dde0-4dd2-972f-841fb043fd83",
   "metadata": {},
   "source": [
    "**Q1.** Create one variable containing following type of data:\n",
    "- (i) string\n",
    "- (ii) list\n",
    "- (iii) float\n",
    "- (iv) tuple"
   ]
  },
  {
   "cell_type": "markdown",
   "id": "ea081d97-4dc7-4675-91bc-f3560f9a103a",
   "metadata": {},
   "source": [
    "**Answer :-**"
   ]
  },
  {
   "cell_type": "code",
   "execution_count": 2,
   "id": "b8193657-5b9b-404b-b674-589f6a7bafff",
   "metadata": {},
   "outputs": [
    {
     "data": {
      "text/plain": [
       "str"
      ]
     },
     "execution_count": 2,
     "metadata": {},
     "output_type": "execute_result"
    }
   ],
   "source": [
    "a = 'Aman'\n",
    "type(a)"
   ]
  },
  {
   "cell_type": "code",
   "execution_count": 3,
   "id": "5bea13fa-1822-46fe-967a-7cd4951b27fe",
   "metadata": {},
   "outputs": [
    {
     "data": {
      "text/plain": [
       "list"
      ]
     },
     "execution_count": 3,
     "metadata": {},
     "output_type": "execute_result"
    }
   ],
   "source": [
    "b = [2,4,\"aman\"]\n",
    "type(b)"
   ]
  },
  {
   "cell_type": "code",
   "execution_count": 4,
   "id": "123c56b6-4f56-420a-b9d5-80e79ac557b6",
   "metadata": {},
   "outputs": [
    {
     "data": {
      "text/plain": [
       "float"
      ]
     },
     "execution_count": 4,
     "metadata": {},
     "output_type": "execute_result"
    }
   ],
   "source": [
    "c = 2.43\n",
    "type(c)"
   ]
  },
  {
   "cell_type": "code",
   "execution_count": 5,
   "id": "941ce5b3-3806-4171-a49c-8746c41fbcf4",
   "metadata": {},
   "outputs": [
    {
     "data": {
      "text/plain": [
       "tuple"
      ]
     },
     "execution_count": 5,
     "metadata": {},
     "output_type": "execute_result"
    }
   ],
   "source": [
    "d = (1,2,43,5)\n",
    "type(d)"
   ]
  },
  {
   "cell_type": "markdown",
   "id": "34868a8e-1cd8-457c-920b-3638186fe73e",
   "metadata": {},
   "source": [
    "-----"
   ]
  },
  {
   "cell_type": "markdown",
   "id": "85d8ff41-391e-4ea4-8fd8-aebaf3293ab7",
   "metadata": {},
   "source": [
    "**Q2.** Given are some following variables containing data:\n",
    "\n",
    "(i) var1 = ‘ ‘\n",
    "\n",
    "(ii) var2 = ‘[ DS , ML , Python]’\n",
    "\n",
    "(iii) var3 = [ ‘DS’ , ’ML’ , ‘Python’ ]\n",
    "\n",
    "(iv) var4 = 1.\n",
    "\n",
    "What will be the data type of the above given variable."
   ]
  },
  {
   "cell_type": "markdown",
   "id": "63563ff1-1552-4bbd-9317-514de12e451a",
   "metadata": {},
   "source": [
    "**Answer :-**"
   ]
  },
  {
   "cell_type": "code",
   "execution_count": 7,
   "id": "6e0deacf-d7de-41f6-8c92-624e645b0ac7",
   "metadata": {},
   "outputs": [
    {
     "data": {
      "text/plain": [
       "str"
      ]
     },
     "execution_count": 7,
     "metadata": {},
     "output_type": "execute_result"
    }
   ],
   "source": [
    "#Type (i) String\n",
    "var1 = ''\n",
    "type(var1)"
   ]
  },
  {
   "cell_type": "code",
   "execution_count": 9,
   "id": "c1621506-0186-45fd-8db1-9d48577206f7",
   "metadata": {},
   "outputs": [
    {
     "data": {
      "text/plain": [
       "str"
      ]
     },
     "execution_count": 9,
     "metadata": {},
     "output_type": "execute_result"
    }
   ],
   "source": [
    "# (ii) str\n",
    "var2 = '[ DS , ML , Python]'\n",
    "type(var2)"
   ]
  },
  {
   "cell_type": "code",
   "execution_count": 11,
   "id": "6b3da9dc-b8fd-4971-a01a-81c64197bd99",
   "metadata": {},
   "outputs": [
    {
     "data": {
      "text/plain": [
       "list"
      ]
     },
     "execution_count": 11,
     "metadata": {},
     "output_type": "execute_result"
    }
   ],
   "source": [
    "# (iii) list\n",
    "var3 = [ 'DS' ,'ML' , 'Python']\n",
    "type(var3)"
   ]
  },
  {
   "cell_type": "code",
   "execution_count": 13,
   "id": "25ba8cf0-71f7-4b06-a08b-ccafa57f2122",
   "metadata": {},
   "outputs": [
    {
     "data": {
      "text/plain": [
       "float"
      ]
     },
     "execution_count": 13,
     "metadata": {},
     "output_type": "execute_result"
    }
   ],
   "source": [
    "# (iv) float\n",
    "var4 = 1.\n",
    "type(var4)"
   ]
  },
  {
   "cell_type": "markdown",
   "id": "ab8fabfc-412b-4b9a-bb63-e270957010f6",
   "metadata": {},
   "source": [
    "---"
   ]
  },
  {
   "cell_type": "markdown",
   "id": "a73e3daa-ebb8-4234-9430-a1e4eb1edaeb",
   "metadata": {},
   "source": [
    "**Q3.** Explain the use of the following operators using an example:\n",
    "\n",
    "(i) /\n",
    "\n",
    "(ii) %\n",
    "\n",
    "(iii) //\n",
    "\n",
    "(iv) **"
   ]
  },
  {
   "cell_type": "markdown",
   "id": "a00fdfde-1d83-4f45-86ae-716c35145fa1",
   "metadata": {},
   "source": [
    "**Answer :-**\n",
    "1) \"/\" is used for division and returns a floating-point result"
   ]
  },
  {
   "cell_type": "code",
   "execution_count": 15,
   "id": "9d7465de-2b96-4862-8ee1-803d0c6f7932",
   "metadata": {},
   "outputs": [
    {
     "name": "stdout",
     "output_type": "stream",
     "text": [
      "3.3333333333333335\n"
     ]
    }
   ],
   "source": [
    "a = 10\n",
    "b = 3\n",
    "rslt = a/b\n",
    "print(rslt)"
   ]
  },
  {
   "cell_type": "markdown",
   "id": "97a2f772-0d31-4ff5-9b89-8fd5f89e6c08",
   "metadata": {},
   "source": [
    "2. \"%\" is used for finding the remainder of a division operation.\n",
    "\n",
    "\n"
   ]
  },
  {
   "cell_type": "code",
   "execution_count": 16,
   "id": "038f67bd-d441-4e75-962c-74d7749d676c",
   "metadata": {},
   "outputs": [
    {
     "name": "stdout",
     "output_type": "stream",
     "text": [
      "1\n"
     ]
    }
   ],
   "source": [
    "a = 10\n",
    "b = 3\n",
    "remainder = a % b\n",
    "print(remainder) \n"
   ]
  },
  {
   "cell_type": "markdown",
   "id": "e54a0ad5-18c0-48ba-9b76-59d72918314b",
   "metadata": {},
   "source": [
    "3. \"//\" is used for floor division, ensuring the result is an integer."
   ]
  },
  {
   "cell_type": "code",
   "execution_count": 18,
   "id": "786e1710-285d-46e5-a350-467a977ed0b8",
   "metadata": {},
   "outputs": [
    {
     "name": "stdout",
     "output_type": "stream",
     "text": [
      "3\n"
     ]
    }
   ],
   "source": [
    "a = 10\n",
    "b = 3\n",
    "rslt = a // b\n",
    "print(rslt)"
   ]
  },
  {
   "cell_type": "markdown",
   "id": "851a58d1-9df3-4ea4-a0ac-32fe9d0aeff2",
   "metadata": {},
   "source": [
    "4. ** is used for exponentiation, raising one number to the power of another."
   ]
  },
  {
   "cell_type": "code",
   "execution_count": 19,
   "id": "500ad871-b836-4751-8b8d-7080abdd4097",
   "metadata": {},
   "outputs": [
    {
     "name": "stdout",
     "output_type": "stream",
     "text": [
      "8\n"
     ]
    }
   ],
   "source": [
    "a = 2\n",
    "b = 3\n",
    "rslt = a ** b\n",
    "print(rslt)"
   ]
  },
  {
   "cell_type": "markdown",
   "id": "a66e750d-380c-4263-a9fc-fe8b1c6ec755",
   "metadata": {},
   "source": [
    "---"
   ]
  },
  {
   "cell_type": "markdown",
   "id": "a543589f-52b6-43ad-8c49-bc011b3dace5",
   "metadata": {},
   "source": [
    "**Q4.** Create a list of length 10 of your choice containing multiple types of data. Using for loop print the\n",
    "element and its data type.\n",
    "\n",
    "**Answer :-**"
   ]
  },
  {
   "cell_type": "code",
   "execution_count": 22,
   "id": "29a9fbd4-620a-403b-b46c-41a2749b2c80",
   "metadata": {},
   "outputs": [
    {
     "name": "stdout",
     "output_type": "stream",
     "text": [
      "Value :-  1  its data type :-  <class 'int'>\n",
      "Value :-  2.3  its data type :-  <class 'float'>\n",
      "Value :-  aman  its data type :-  <class 'str'>\n",
      "Value :-  [1, 2]  its data type :-  <class 'list'>\n",
      "Value :-  (3, 4)  its data type :-  <class 'tuple'>\n",
      "Value :-  {6, 7}  its data type :-  <class 'set'>\n",
      "Value :-  {'name': 'Aman Sharma'}  its data type :-  <class 'dict'>\n",
      "Value :-  (2+3j)  its data type :-  <class 'complex'>\n",
      "Value :-  True  its data type :-  <class 'bool'>\n",
      "Value :-  14  its data type :-  <class 'int'>\n"
     ]
    }
   ],
   "source": [
    "list1 = [1,2.3,'aman',[1,2],(3,4),{6,7},{'name':'Aman Sharma'},2+3j,True,0b1110]\n",
    "for i in list1:\n",
    "    print('Value :- ',i,' its data type :- ', type(i))"
   ]
  },
  {
   "cell_type": "markdown",
   "id": "ac154ae2-60a6-4af2-b15c-70cbb29f97f8",
   "metadata": {},
   "source": [
    "---"
   ]
  },
  {
   "cell_type": "markdown",
   "id": "37404333-379e-4867-ae47-bdb1c3219670",
   "metadata": {},
   "source": [
    "**Q5.** Using a while loop, verify if the number A is purely divisible by number B and if so then how many\n",
    "times it can be divisible.\n",
    "\n",
    "**Answer :-**"
   ]
  },
  {
   "cell_type": "code",
   "execution_count": 25,
   "id": "c60f46d8-ecaa-4d86-bcfc-42fa6baa2db3",
   "metadata": {},
   "outputs": [
    {
     "name": "stdin",
     "output_type": "stream",
     "text": [
      "Enter number a:  40\n",
      "Enter number b:  3\n"
     ]
    },
    {
     "name": "stdout",
     "output_type": "stream",
     "text": [
      "40 is not purely divisible by 3.\n"
     ]
    }
   ],
   "source": [
    "a = int(input(\"Enter number a: \"))\n",
    "b = int(input(\"Enter number b: \"))\n",
    "c = a\n",
    "count = 0\n",
    "while a % b == 0:\n",
    "    a = a / b\n",
    "    count += 1\n",
    "if a == 1:\n",
    "    print(f\"{c} is purely divisible by {b} {count} times.\")\n",
    "else:\n",
    "    print(f\"{c} is not purely divisible by {b}.\")"
   ]
  },
  {
   "cell_type": "markdown",
   "id": "e15160a5-cc03-4367-89ae-10cc97eb4b0a",
   "metadata": {},
   "source": [
    "---"
   ]
  },
  {
   "cell_type": "markdown",
   "id": "226e4ce6-e3d8-45b0-9333-97ef06639313",
   "metadata": {},
   "source": [
    "**Q6.** Create a list containing 25 int type data. Using for loop and if-else condition print if the element is\n",
    "divisible by 3 or not.\n",
    "\n",
    "**Answer :-**"
   ]
  },
  {
   "cell_type": "code",
   "execution_count": 26,
   "id": "43ec5f04-8c99-4350-8606-38d6ee2a9194",
   "metadata": {},
   "outputs": [
    {
     "name": "stdout",
     "output_type": "stream",
     "text": [
      "12 is divisible by 3\n",
      "6 is divisible by 3\n",
      "8 is not divisible by 3\n",
      "9 is divisible by 3\n",
      "15 is divisible by 3\n",
      "18 is divisible by 3\n",
      "21 is divisible by 3\n",
      "25 is not divisible by 3\n",
      "30 is divisible by 3\n",
      "33 is divisible by 3\n",
      "42 is divisible by 3\n",
      "48 is divisible by 3\n",
      "55 is not divisible by 3\n",
      "60 is divisible by 3\n",
      "63 is divisible by 3\n",
      "70 is not divisible by 3\n",
      "75 is divisible by 3\n",
      "80 is not divisible by 3\n",
      "88 is not divisible by 3\n",
      "90 is divisible by 3\n",
      "99 is divisible by 3\n",
      "100 is not divisible by 3\n",
      "105 is divisible by 3\n",
      "110 is not divisible by 3\n",
      "120 is divisible by 3\n"
     ]
    }
   ],
   "source": [
    "list1 = [12, 6, 8, 9, 15, 18, 21, 25, 30, 33, 42, 48, 55, 60, 63, 70, 75, 80, 88, 90, 99, 100, 105, 110, 120]\n",
    "for i in list1:\n",
    "    if i%3 == 0:\n",
    "        print(f\"{i} is divisible by 3\")\n",
    "    else:\n",
    "        print(f\"{i} is not divisible by 3\")\n"
   ]
  },
  {
   "cell_type": "markdown",
   "id": "65679a0c-1a90-4c54-a39c-50d8e064705f",
   "metadata": {},
   "source": [
    "---"
   ]
  },
  {
   "cell_type": "markdown",
   "id": "bb1644de-7e9a-4864-9b62-d54905bbf3c9",
   "metadata": {},
   "source": [
    "**Q7.** What do you understand about mutable and immutable data types? Give examples for both showing this property.\n",
    "\n",
    "**Answer :-**\n",
    "\n",
    "Mutable data types can be modified after creation (list, dictionaries), while immutable data types cannot be changed once they are created (strings, tuples)."
   ]
  },
  {
   "cell_type": "code",
   "execution_count": 28,
   "id": "c08ff4d2-9622-4327-bafb-94dcc29d1370",
   "metadata": {},
   "outputs": [
    {
     "name": "stdout",
     "output_type": "stream",
     "text": [
      "Before Modification :-  [1, 2, 3]\n",
      "After Modification :-  [4, 2, 3]\n"
     ]
    }
   ],
   "source": [
    "# Mutable data types (list)\n",
    "list1 = [1, 2, 3]\n",
    "print(\"Before Modification :- \",list1)\n",
    "list1[0] = 4  # Modifying an element in the list\n",
    "print(\"After Modification :- \",list1)"
   ]
  },
  {
   "cell_type": "code",
   "execution_count": 30,
   "id": "2939b731-3890-4aeb-a538-2a5e95198ea5",
   "metadata": {},
   "outputs": [
    {
     "ename": "TypeError",
     "evalue": "'tuple' object does not support item assignment",
     "output_type": "error",
     "traceback": [
      "\u001b[0;31m---------------------------------------------------------------------------\u001b[0m",
      "\u001b[0;31mTypeError\u001b[0m                                 Traceback (most recent call last)",
      "Cell \u001b[0;32mIn[30], line 2\u001b[0m\n\u001b[1;32m      1\u001b[0m tuple1 \u001b[38;5;241m=\u001b[39m (\u001b[38;5;241m1\u001b[39m,\u001b[38;5;241m2\u001b[39m,\u001b[38;5;241m4\u001b[39m)\n\u001b[0;32m----> 2\u001b[0m \u001b[43mtuple1\u001b[49m\u001b[43m[\u001b[49m\u001b[38;5;241;43m0\u001b[39;49m\u001b[43m]\u001b[49m \u001b[38;5;241m=\u001b[39m \u001b[38;5;241m5\u001b[39m\n\u001b[1;32m      3\u001b[0m \u001b[38;5;66;03m# Will get error\u001b[39;00m\n\u001b[1;32m      4\u001b[0m \u001b[38;5;28mprint\u001b[39m(tuple1)\n",
      "\u001b[0;31mTypeError\u001b[0m: 'tuple' object does not support item assignment"
     ]
    }
   ],
   "source": [
    "tuple1 = (1,2,4)\n",
    "tuple1[0] = 5\n",
    "# Will get error\n",
    "print(tuple1)"
   ]
  },
  {
   "cell_type": "markdown",
   "id": "6736b7df-ccc5-4bb5-b199-012c8acecd30",
   "metadata": {},
   "source": [
    "---"
   ]
  }
 ],
 "metadata": {
  "kernelspec": {
   "display_name": "Python 3 (ipykernel)",
   "language": "python",
   "name": "python3"
  },
  "language_info": {
   "codemirror_mode": {
    "name": "ipython",
    "version": 3
   },
   "file_extension": ".py",
   "mimetype": "text/x-python",
   "name": "python",
   "nbconvert_exporter": "python",
   "pygments_lexer": "ipython3",
   "version": "3.10.12"
  }
 },
 "nbformat": 4,
 "nbformat_minor": 5
}
