{
 "cells": [
  {
   "cell_type": "markdown",
   "id": "f512ae57",
   "metadata": {},
   "source": [
    "# Assignment ImageScrapper"
   ]
  },
  {
   "cell_type": "markdown",
   "id": "3eac0bfd",
   "metadata": {},
   "source": [
    "Go to this given URL and solve the following questions\n",
    "\n",
    "URL: https://www.youtube.com/@PW-Foundation/videos"
   ]
  },
  {
   "cell_type": "markdown",
   "id": "c097d239",
   "metadata": {},
   "source": [
    "### Q1. Write a python program to extract the video URL of the first five videos.\n",
    "**Ans :-**"
   ]
  },
  {
   "cell_type": "code",
   "execution_count": 103,
   "id": "4981be29",
   "metadata": {},
   "outputs": [],
   "source": [
    "from selenium import webdriver\n",
    "from selenium.webdriver.common.by import By\n",
    "from webdriver_manager.chrome import ChromeDriverManager\n",
    "import csv\n",
    "driver = webdriver.Chrome()\n"
   ]
  },
  {
   "cell_type": "code",
   "execution_count": 104,
   "id": "464360b1",
   "metadata": {},
   "outputs": [],
   "source": [
    "driver.get(\"https://www.youtube.com/@PW-Foundation/videos\")"
   ]
  },
  {
   "cell_type": "code",
   "execution_count": 105,
   "id": "cacc74ce",
   "metadata": {},
   "outputs": [
    {
     "name": "stdout",
     "output_type": "stream",
     "text": [
      "https://www.youtube.com/watch?v=QXL_chd9TC8\n",
      "https://www.youtube.com/watch?v=QXL_chd9TC8\n",
      "https://www.youtube.com/watch?v=QXL_chd9TC8\n",
      "https://www.youtube.com/watch?v=bKMgIqIYgA0\n",
      "https://www.youtube.com/watch?v=bKMgIqIYgA0\n"
     ]
    }
   ],
   "source": [
    "\n",
    "links =driver.find_elements(By.TAG_NAME,'a')\n",
    "href_list = []\n",
    "for link in links[17:37]:\n",
    "    hr = link.get_attribute(\"href\")\n",
    "    if hr == None:\n",
    "        pass\n",
    "    else:\n",
    "        href_list.append(hr)\n",
    "for link in href_list[:5]:\n",
    "    print(link)\n",
    "    "
   ]
  },
  {
   "cell_type": "markdown",
   "id": "124c98b8",
   "metadata": {},
   "source": [
    "### Q2. Write a python program to extract the URL of the video thumbnails of the first five videos.\n",
    "**Ans :-**"
   ]
  },
  {
   "cell_type": "code",
   "execution_count": null,
   "id": "a5b5ab79",
   "metadata": {},
   "outputs": [],
   "source": [
    "driver.get(\"https://www.youtube.com/@PW-Foundation/videos\")"
   ]
  },
  {
   "cell_type": "code",
   "execution_count": 109,
   "id": "48ca1d65",
   "metadata": {},
   "outputs": [
    {
     "name": "stdout",
     "output_type": "stream",
     "text": [
      "126\n",
      "\n",
      "\n",
      "https://yt3.googleusercontent.com/fnvPPu2AR2-5FLx5FDchrJS8qswQ4_6PxP0eiJ8XsM2A6Hb8ZEtv3uUk60qBVzDKi3GrY5uI1g=s176-c-k-c0x00ffffff-no-rj\n",
      "https://i.ytimg.com/vi/QXL_chd9TC8/hqdefault.jpg?sqp=-oaymwEcCNACELwBSFXyq4qpAw4IARUAAIhCGAFwAcABBg==&rs=AOn4CLCXj-Wy5jBBnDfCN1v61zik2MNGgA\n",
      "https://i.ytimg.com/vi/bKMgIqIYgA0/hqdefault.jpg?sqp=-oaymwEcCNACELwBSFXyq4qpAw4IARUAAIhCGAFwAcABBg==&rs=AOn4CLCq8NcXqUEWLic7FOHgZ5XETDxxIQ\n",
      "https://i.ytimg.com/vi/3wp8qGHUzDc/hqdefault.jpg?sqp=-oaymwEcCNACELwBSFXyq4qpAw4IARUAAIhCGAFwAcABBg==&rs=AOn4CLB07jUZpVRmdd2QkqcBeqJaM3MgbA\n",
      "https://i.ytimg.com/vi/wEP-exE280w/hqdefault.jpg?sqp=-oaymwEcCNACELwBSFXyq4qpAw4IARUAAIhCGAFwAcABBg==&rs=AOn4CLCKveMjbSlP8nqsS7ET8e8k_KyArw\n"
     ]
    }
   ],
   "source": [
    "\n",
    "links = driver.find_elements(By.TAG_NAME,\"img\")\n",
    "thumbnails = []\n",
    "print(len(links))\n",
    "for thumbnail in links:\n",
    "    thumbnail = thumbnail.get_attribute(\"src\")\n",
    "    if thumbnail == None:\n",
    "        continue\n",
    "    else:\n",
    "        thumbnails.append(thumbnail)\n",
    "for i in thumbnails[:7]:\n",
    "    print(i)"
   ]
  },
  {
   "cell_type": "markdown",
   "id": "e3a2b0ca",
   "metadata": {},
   "source": [
    "### Q3. Write a python program to extract the title of the first five videos.\n",
    "**Ans :-**"
   ]
  },
  {
   "cell_type": "code",
   "execution_count": 97,
   "id": "08ceddab",
   "metadata": {},
   "outputs": [],
   "source": [
    "driver.get(\"https://www.youtube.com/@PW-Foundation/videos\")"
   ]
  },
  {
   "cell_type": "code",
   "execution_count": 110,
   "id": "b8acba87",
   "metadata": {},
   "outputs": [
    {
     "name": "stdout",
     "output_type": "stream",
     "text": [
      "271\n",
      "Class10th से 11th में आ गये ⁉️ Ultimate Guide To Crack NEET 2026 with PW 2-Year Residential Program🎯 by Physics Wallah Foundation 74,189 views 19 hours\n",
      "क्या UDAAN BATCH से भी Toppers निकलते हैं? | Reality EXPOSED ❌ by Physics Wallah Foundation 29,443 views 1 day\n",
      "Class 10th MATH'S Board Last Minute Strategy | Presentation Tips + Time Management 🔥 by Physics Wallah Foundation 165,149 views 2 days ago 14 minu\n",
      "2 IMPORTANT QUESTIONS OF SURFACE AREAS | Class 10th MATHS Board Exam by Physics Wallah Foundation 130,065 views 3 days ago 13 min\n",
      "MOST IMPORTANT QUESTION OF CIRCLES | Class 10th MATHS Board Exam by Physics Wallah Foundation 84,275 views 3 days ago 5 minu\n"
     ]
    }
   ],
   "source": [
    "links =driver.find_elements(By.TAG_NAME,'a')\n",
    "title_list = []\n",
    "for link in links[17:]:\n",
    "    if link.get_attribute(\"aria-label\"):\n",
    "        title_list.append(link.get_attribute(\"aria-label\"))\n",
    "for title in title_list[:5]:\n",
    "    print(title[:-15])"
   ]
  },
  {
   "cell_type": "markdown",
   "id": "4bbb0b2c",
   "metadata": {},
   "source": [
    "### Q4. Write a python program to extract the number of views of the first five videos.\n",
    "**Ans :-**"
   ]
  },
  {
   "cell_type": "code",
   "execution_count": 99,
   "id": "5b721714",
   "metadata": {},
   "outputs": [],
   "source": [
    "driver.get(\"https://www.youtube.com/@PW-Foundation/videos\")"
   ]
  },
  {
   "cell_type": "code",
   "execution_count": 111,
   "id": "bddc804d",
   "metadata": {},
   "outputs": [
    {
     "name": "stdout",
     "output_type": "stream",
     "text": [
      "74K views\n",
      "29K views\n",
      "165K views\n",
      "130K views\n",
      "84K views\n"
     ]
    }
   ],
   "source": [
    "links =driver.find_elements(By.TAG_NAME,'span')\n",
    "\n",
    "video_views = []\n",
    "for i in links[23:]:\n",
    "    if str(\"views\") in i.text:\n",
    "        video_views.append(i.text)\n",
    "for views in video_views[:5]:\n",
    "    print(views)"
   ]
  },
  {
   "cell_type": "markdown",
   "id": "6cb14165",
   "metadata": {},
   "source": [
    "### Q5. Write a python program to extract the time of posting of video for the first five videos.\n",
    "**Ans :-**"
   ]
  },
  {
   "cell_type": "code",
   "execution_count": 112,
   "id": "2e99e68c",
   "metadata": {},
   "outputs": [
    {
     "name": "stdout",
     "output_type": "stream",
     "text": [
      "1 day ago\n",
      "2 days ago\n",
      "3 days ago\n",
      "3 days ago\n",
      "3 days ago\n"
     ]
    }
   ],
   "source": [
    "times = driver.find_elements(By.TAG_NAME,\"span\")\n",
    "video_times = []\n",
    "for i in times[24:]:\n",
    "    if str(\"day\") in i.text:\n",
    "        video_times.append(i.text)\n",
    "for time in video_times[:5]:\n",
    "    print(time)"
   ]
  },
  {
   "cell_type": "code",
   "execution_count": 113,
   "id": "8c9336d8",
   "metadata": {},
   "outputs": [
    {
     "name": "stdout",
     "output_type": "stream",
     "text": [
      "done\n"
     ]
    }
   ],
   "source": [
    "for i in range(5):\n",
    "    data_csv = str(href_list[i]),str(thumbnails[i]),str(title_list[i]),str(video_views[i]),str(video_times[i])    \n",
    "\n",
    "    with open('video_details.csv', 'w',encoding='utf-8', newline='') as file:\n",
    "        writer = csv.writer(file)\n",
    "        writer.writerow(data_csv)\n",
    "print('done')"
   ]
  },
  {
   "cell_type": "code",
   "execution_count": null,
   "id": "512953dc",
   "metadata": {},
   "outputs": [],
   "source": []
  },
  {
   "cell_type": "code",
   "execution_count": null,
   "id": "2ae37650",
   "metadata": {},
   "outputs": [],
   "source": []
  }
 ],
 "metadata": {
  "kernelspec": {
   "display_name": "Python 3 (ipykernel)",
   "language": "python",
   "name": "python3"
  },
  "language_info": {
   "codemirror_mode": {
    "name": "ipython",
    "version": 3
   },
   "file_extension": ".py",
   "mimetype": "text/x-python",
   "name": "python",
   "nbconvert_exporter": "python",
   "pygments_lexer": "ipython3",
   "version": "3.8.16"
  }
 },
 "nbformat": 4,
 "nbformat_minor": 5
}
