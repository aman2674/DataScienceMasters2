{
 "cells": [
  {
   "cell_type": "markdown",
   "id": "24ed09fc-d4fa-4909-8134-6fbae353b700",
   "metadata": {},
   "source": [
    "# Python Data Structures Assignment"
   ]
  },
  {
   "cell_type": "markdown",
   "id": "88e97743-4b68-4867-a1ed-1cffd2603eda",
   "metadata": {},
   "source": [
    "**Q1.** How do you comment code in Python? What are the different types of comments?\n",
    "provide short answer\n",
    "\n",
    "**Answer :-`**"
   ]
  },
  {
   "cell_type": "markdown",
   "id": "d8056459-e241-45be-b7fc-23ba169bd54f",
   "metadata": {},
   "source": [
    "Single-line comments: These start with \"#\" and are used to comment a single line of code."
   ]
  },
  {
   "cell_type": "code",
   "execution_count": 1,
   "id": "f403dd3b-83ca-4f43-848d-bd65cbb58b82",
   "metadata": {},
   "outputs": [],
   "source": [
    "# single line comment"
   ]
  },
  {
   "cell_type": "markdown",
   "id": "8798e662-b15b-4790-92b8-5d14b4f39261",
   "metadata": {},
   "source": [
    "Multi-line comments: These are enclosed in triple quotes (either single or double) and are typically used for multi-line explanations or documentation of functions, classes, or modules."
   ]
  },
  {
   "cell_type": "code",
   "execution_count": 2,
   "id": "d3f13ca8-b420-46f2-8b42-25aeafd55609",
   "metadata": {},
   "outputs": [
    {
     "data": {
      "text/plain": [
       "'\\nThis is a\\nmulti-line comment\\n'"
      ]
     },
     "execution_count": 2,
     "metadata": {},
     "output_type": "execute_result"
    }
   ],
   "source": [
    "'''\n",
    "This is a\n",
    "multi-line comment\n",
    "'''"
   ]
  },
  {
   "cell_type": "markdown",
   "id": "da1eb14e-4c1f-45ae-8f34-85f8a417f0a7",
   "metadata": {},
   "source": [
    "---"
   ]
  },
  {
   "cell_type": "markdown",
   "id": "87a78c57-f8c4-4521-b5b6-1cf7bd55d21f",
   "metadata": {},
   "source": [
    "**Q2.** What are variables in Python? How do you declare and assign values to variables?\n",
    "\n",
    "**Answer :-**"
   ]
  },
  {
   "cell_type": "markdown",
   "id": "18719526-62d7-4c4b-a936-5d6028bbf55b",
   "metadata": {},
   "source": [
    "Variables are used to store data values. They act as containers for storing and managing information. Here's how you declare and assign values to variables in Python\n",
    "\n",
    "In Python, you don't need to explicitly declare the data type of a variable. You can create a variable simply by assigning a value to it."
   ]
  },
  {
   "cell_type": "code",
   "execution_count": 4,
   "id": "2b042e7e-c2b9-41f6-a33f-e0d5be449fb9",
   "metadata": {},
   "outputs": [
    {
     "name": "stdout",
     "output_type": "stream",
     "text": [
      "24\n",
      "<class 'int'>\n"
     ]
    }
   ],
   "source": [
    "# Assignning the Variable\n",
    "var = 24\n",
    "print(var)\n",
    "print(type(var))"
   ]
  },
  {
   "cell_type": "markdown",
   "id": "0514cf04-97e9-41d6-84a0-4572768cda36",
   "metadata": {},
   "source": [
    "---"
   ]
  },
  {
   "cell_type": "markdown",
   "id": "6bb31ace-bd75-4619-9b25-df2a4aec0c1b",
   "metadata": {},
   "source": [
    "**Q3.** How do you convert one data type to another in Python?\n",
    "\n",
    "**Answer :-**\n",
    "1. Implicit Type Conversion (Type Coercion): Python automatically converts data types when an operation involves two different type\n"
   ]
  },
  {
   "cell_type": "code",
   "execution_count": 6,
   "id": "b37d88da-a203-4715-89e2-af606ff26e33",
   "metadata": {
    "scrolled": true
   },
   "outputs": [
    {
     "name": "stdout",
     "output_type": "stream",
     "text": [
      "Value :-  5  datatype :-  <class 'int'>\n",
      "Value :-  3.14  datatype :-  <class 'float'>\n",
      "Value :-  8.14  datatype :-  <class 'float'>\n"
     ]
    }
   ],
   "source": [
    "int_num = 5\n",
    "print(\"Value :- \",int_num,\" datatype :- \",type(int_num))\n",
    "float_num = 3.14\n",
    "print(\"Value :- \",float_num,\" datatype :- \",type(float_num))\n",
    "result = int_num + float_num\n",
    "print(\"Value :- \",result,\" datatype :- \",type(result))"
   ]
  },
  {
   "cell_type": "markdown",
   "id": "7e1b46f5-b0fa-4310-b805-484413b049ef",
   "metadata": {},
   "source": [
    "2. Explicit Type Conversion (Type Casting): You can explicitly convert data types using functions"
   ]
  },
  {
   "cell_type": "code",
   "execution_count": 8,
   "id": "762fa884-b3c6-4e36-ae1c-38d86da684d6",
   "metadata": {},
   "outputs": [
    {
     "name": "stdout",
     "output_type": "stream",
     "text": [
      "Value :-  3.14  datatype :-  <class 'float'>\n",
      "Value :-  3  datatype :-  <class 'int'>\n"
     ]
    }
   ],
   "source": [
    "# int(): Converts a value to an integer.\n",
    "float_num = 3.14\n",
    "print(\"Value :- \",float_num,\" datatype :- \",type(float_num))\n",
    "int_num = int(float_num)\n",
    "print(\"Value :- \",int_num,\" datatype :- \",type(int_num))"
   ]
  },
  {
   "cell_type": "code",
   "execution_count": 10,
   "id": "4ebb0265-3063-467c-b73b-86e77597281c",
   "metadata": {},
   "outputs": [
    {
     "name": "stdout",
     "output_type": "stream",
     "text": [
      "Value :-  5  datatype :-  <class 'int'>\n",
      "Value :-  5.0  datatype :-  <class 'float'>\n"
     ]
    }
   ],
   "source": [
    "# float(): Converts a value to a floating-point number.\n",
    "int_num = 5\n",
    "print(\"Value :- \",int_num,\" datatype :- \",type(int_num))\n",
    "float_num = float(int_num)\n",
    "print(\"Value :- \",float_num,\" datatype :- \",type(float_num))"
   ]
  },
  {
   "cell_type": "code",
   "execution_count": 11,
   "id": "76c26e0c-09e0-4e37-a007-22e74c5d869e",
   "metadata": {},
   "outputs": [
    {
     "name": "stdout",
     "output_type": "stream",
     "text": [
      "Value :-  5  datatype :-  <class 'int'>\n",
      "Value :-  42  datatype :-  <class 'str'>\n"
     ]
    }
   ],
   "source": [
    "# str(): Converts a value to a string.\n",
    "num = 42\n",
    "print(\"Value :- \",int_num,\" datatype :- \",type(int_num))\n",
    "str_num = str(num)\n",
    "print(\"Value :- \",str_num,\" datatype :- \",type(str_num))"
   ]
  },
  {
   "cell_type": "markdown",
   "id": "a4cc4610-7c54-4aa8-8ce0-b0ed56416198",
   "metadata": {},
   "source": [
    "and many more.."
   ]
  },
  {
   "cell_type": "markdown",
   "id": "5b76c141-5a8d-423b-bbbd-a4df8742473e",
   "metadata": {},
   "source": [
    "---"
   ]
  },
  {
   "cell_type": "markdown",
   "id": "5a51735b-1f68-4135-84b9-cbf7cea12b65",
   "metadata": {},
   "source": [
    "**Q4.** How do you write and execute a Python script from the command line?\n",
    "\n",
    "**Answer :-**"
   ]
  },
  {
   "cell_type": "markdown",
   "id": "a62d179c-bac3-497e-ad1f-77933ebc398d",
   "metadata": {},
   "source": [
    "1. Create a Python Script :- Open a text editor and write your Python code in the text editor and save the file with a \".py\" extension. For example, script.py\n",
    "2. Open the Command Line and navigate to the Script's Directory (Use the cd (change directory) command to navigate to the directory where your Python script is located)\n",
    "3. Run the Python Script :- To execute your Python script, you can use the \"python\" command followed by the script's filename.\n",
    "For example:- python script.py"
   ]
  },
  {
   "cell_type": "markdown",
   "id": "1496ebd0-437d-4a0f-b25a-14ce10404de7",
   "metadata": {},
   "source": [
    "---"
   ]
  },
  {
   "cell_type": "markdown",
   "id": "1d384792-032b-4401-b870-3eaf0217ab9c",
   "metadata": {},
   "source": [
    "**Q5.** Given a list my_list = [1, 2, 3, 4, 5], write the code to slice the list and obtain the sub-list [2, 3].\n",
    "\n",
    "**Answer :-**"
   ]
  },
  {
   "cell_type": "code",
   "execution_count": 13,
   "id": "fa14b898-0719-4122-85aa-444194a8e69f",
   "metadata": {},
   "outputs": [
    {
     "name": "stdout",
     "output_type": "stream",
     "text": [
      "[2, 3]\n"
     ]
    }
   ],
   "source": [
    "my_list = [1,2,3,4,5]\n",
    "sub_list = my_list[1:3]\n",
    "print(sub_list)"
   ]
  },
  {
   "cell_type": "markdown",
   "id": "d91718b4-6787-4e3d-9641-d7772768a4fe",
   "metadata": {},
   "source": [
    "---"
   ]
  },
  {
   "cell_type": "markdown",
   "id": "ca4e635b-3d7f-466f-80dd-daff4bbc6c97",
   "metadata": {},
   "source": [
    "**Q6.** What is a complex number in mathematics, and how is it represented in Python?\n",
    "\n",
    "**Answer :-**\n",
    "\n",
    "A complex number in mathematics is a number that consists of a real part and an imaginary part, usually represented as \"a + bi,\" where \"a\" is the real part, \"b\" is the imaginary part"
   ]
  },
  {
   "cell_type": "code",
   "execution_count": 14,
   "id": "28e22e73-56e8-4684-bb48-8eb651e1d715",
   "metadata": {},
   "outputs": [
    {
     "name": "stdout",
     "output_type": "stream",
     "text": [
      "(3+2j)\n",
      "<class 'complex'>\n"
     ]
    }
   ],
   "source": [
    "# in python, complex numbers are represented using the \"j\" suffix for the imaginary part\n",
    "c = 3 +2j\n",
    "print(c)\n",
    "print(type(c))"
   ]
  },
  {
   "cell_type": "markdown",
   "id": "b5fe6113-2516-43b7-ae77-0fb2d7c60dcc",
   "metadata": {},
   "source": [
    "---"
   ]
  },
  {
   "cell_type": "markdown",
   "id": "7a18224c-ef96-4d8c-a43d-3d86e01c6395",
   "metadata": {},
   "source": [
    "**Q7.** What is the correct way to declare a variable named age and assign the value 25 to it?\n",
    "\n",
    "**Answer :-**"
   ]
  },
  {
   "cell_type": "code",
   "execution_count": 15,
   "id": "be3a10f6-ab2c-44e6-bad2-5485e3892a54",
   "metadata": {},
   "outputs": [
    {
     "name": "stdout",
     "output_type": "stream",
     "text": [
      "25\n"
     ]
    }
   ],
   "source": [
    "age = 25\n",
    "print(age)"
   ]
  },
  {
   "cell_type": "markdown",
   "id": "bad82a6f-4299-4f81-a025-731fb500b8ce",
   "metadata": {},
   "source": [
    "---"
   ]
  },
  {
   "cell_type": "markdown",
   "id": "c1bc2e34-b706-45a7-b1f4-355d24ac1a3c",
   "metadata": {},
   "source": [
    "**Q8.** Declare a variable named price and assign the value 9.99 to it. What data type does this variable\n",
    "belong to?\n",
    "\n",
    "**Answer :-**"
   ]
  },
  {
   "cell_type": "code",
   "execution_count": 16,
   "id": "974f6789-d041-4f23-9ea9-26154610f1fa",
   "metadata": {},
   "outputs": [
    {
     "name": "stdout",
     "output_type": "stream",
     "text": [
      "9.99\n",
      "<class 'float'>\n"
     ]
    }
   ],
   "source": [
    "price = 9.99\n",
    "print(price)\n",
    "print(type(price)) #float"
   ]
  },
  {
   "cell_type": "markdown",
   "id": "c1968693-9b77-4201-8394-6a5f72aec6e8",
   "metadata": {},
   "source": [
    "---"
   ]
  },
  {
   "cell_type": "markdown",
   "id": "23ef0b65-bb9f-4237-b884-26b7cc82925d",
   "metadata": {},
   "source": [
    "**Q9.** Create a variable named name and assign your full name to it as a string. How would you print the\n",
    "value of this variable?\n",
    "\n",
    "**Answer :-**"
   ]
  },
  {
   "cell_type": "code",
   "execution_count": 17,
   "id": "8c4ea2b3-db83-4b71-98eb-faa54f0c9162",
   "metadata": {},
   "outputs": [
    {
     "name": "stdout",
     "output_type": "stream",
     "text": [
      "Aman Sharma\n"
     ]
    }
   ],
   "source": [
    "name = \"Aman Sharma\"\n",
    "print(name)"
   ]
  },
  {
   "cell_type": "markdown",
   "id": "0cea8984-5f8d-4e7b-a776-0c1c088e158f",
   "metadata": {},
   "source": [
    "---"
   ]
  },
  {
   "cell_type": "markdown",
   "id": "35dc582f-d92e-4003-b63b-3b03775a79c0",
   "metadata": {},
   "source": [
    "**Q10.** Given the string \"Hello, World!\", extract the substring \"World\".\n",
    "\n",
    "**Answer :-**"
   ]
  },
  {
   "cell_type": "code",
   "execution_count": 19,
   "id": "74aea9f4-d2e4-4b35-b227-7037e87ced48",
   "metadata": {},
   "outputs": [
    {
     "name": "stdout",
     "output_type": "stream",
     "text": [
      "World\n"
     ]
    }
   ],
   "source": [
    "string = \"Hello, World!\"\n",
    "print(string[7:12])"
   ]
  },
  {
   "cell_type": "code",
   "execution_count": null,
   "id": "f034f224-f167-4dce-982e-cff712d209fb",
   "metadata": {},
   "outputs": [],
   "source": []
  }
 ],
 "metadata": {
  "kernelspec": {
   "display_name": "Python 3 (ipykernel)",
   "language": "python",
   "name": "python3"
  },
  "language_info": {
   "codemirror_mode": {
    "name": "ipython",
    "version": 3
   },
   "file_extension": ".py",
   "mimetype": "text/x-python",
   "name": "python",
   "nbconvert_exporter": "python",
   "pygments_lexer": "ipython3",
   "version": "3.10.12"
  }
 },
 "nbformat": 4,
 "nbformat_minor": 5
}
