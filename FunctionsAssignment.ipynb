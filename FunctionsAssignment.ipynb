{
 "cells": [
  {
   "cell_type": "markdown",
   "id": "5e0ca833-e621-4bc2-93e0-188cd548feb3",
   "metadata": {},
   "source": [
    "# ***Functions Assignment***"
   ]
  },
  {
   "cell_type": "markdown",
   "id": "d6a4ab96-0d02-440f-ada4-00e2f881aab4",
   "metadata": {},
   "source": [
    "**Q1.** Which keyword is used to create a function? Create a function to return a list of odd numbers in the\n",
    "range of 1 to 25.\n",
    "\n",
    "**Answer :-**\n",
    "**def** keyword is used to create a function"
   ]
  },
  {
   "cell_type": "code",
   "execution_count": 5,
   "id": "c6db40e8-33cd-4bf2-9e32-a3a7b2bfbb11",
   "metadata": {},
   "outputs": [
    {
     "data": {
      "text/plain": [
       "[1, 3, 5, 7, 9, 11, 13, 15, 17, 19, 21, 23, 25]"
      ]
     },
     "execution_count": 5,
     "metadata": {},
     "output_type": "execute_result"
    }
   ],
   "source": [
    "def odd_number():\n",
    "    odd_num_list= []\n",
    "    for i in range(1,26):\n",
    "        if i%2!=0:\n",
    "            odd_num_list.append(i)\n",
    "    return(odd_num_list)\n",
    "odd_number()"
   ]
  },
  {
   "cell_type": "markdown",
   "id": "819f77ed-6af4-4355-b41f-a16ac1675d65",
   "metadata": {},
   "source": [
    "---"
   ]
  },
  {
   "cell_type": "markdown",
   "id": "8faee163-e7d0-4c60-ad5c-eaccdcbb3846",
   "metadata": {},
   "source": [
    "**Q2.** Why *args and **kwargs is used in some functions? Create a function each for *args and **kwargs to demonstrate their use.\n",
    "\n",
    "**Answer :-**  *args is used to pass a variable number of non-keyword arguments to a function, while **kwargs is used to pass a variable number of keyword arguments."
   ]
  },
  {
   "cell_type": "code",
   "execution_count": 9,
   "id": "461de9cf-4277-4132-8a14-09e4fbca04d2",
   "metadata": {},
   "outputs": [
    {
     "name": "stdout",
     "output_type": "stream",
     "text": [
      "result :-  15\n",
      "\n",
      "\n",
      "name: Aman\n",
      "age: 24\n",
      "city: Chandigarh\n"
     ]
    }
   ],
   "source": [
    "# *args example\n",
    "def sumFun(*args):\n",
    "    return sum(args)\n",
    "\n",
    "result = sumFun(1, 2, 3, 4, 5)\n",
    "print(\"result :- \",result)\n",
    "print(\"\\n\")\n",
    "# **kwargs example\n",
    "def print_info(**kwargs):\n",
    "    for key, value in kwargs.items():\n",
    "        print(f\"{key}: {value}\")\n",
    "\n",
    "print_info(name=\"Aman\", age=24, city=\"Chandigarh\")"
   ]
  },
  {
   "cell_type": "markdown",
   "id": "ac9f1c96-86d3-46fb-a65e-145d0a5a6d19",
   "metadata": {},
   "source": [
    "---"
   ]
  },
  {
   "cell_type": "markdown",
   "id": "1a233e03-cb42-4da3-9d3f-631be8787fb6",
   "metadata": {},
   "source": [
    "**Q3.**  What is an iterator in python? Name the method used to initialise the iterator object and the method\n",
    "used for iteration. Use these methods to print the first five elements of the given list [2, 4, 6, 8, 10, 12, 14, 16,18, 20].\n",
    "\n",
    "**Answer :-**  An iterator in Python is an object that implements the methods `__iter__()` for initialization and `__next__()` for iteration."
   ]
  },
  {
   "cell_type": "markdown",
   "id": "417e6e1a-4f10-41f9-91c7-fe4e2c972914",
   "metadata": {},
   "source": [
    "---"
   ]
  },
  {
   "cell_type": "code",
   "execution_count": 1,
   "id": "2ba6d262-998f-4368-9a98-e0fb365c051c",
   "metadata": {},
   "outputs": [
    {
     "name": "stdout",
     "output_type": "stream",
     "text": [
      "2\n",
      "4\n",
      "6\n",
      "8\n",
      "10\n"
     ]
    }
   ],
   "source": [
    "#to print the first five elements of the given list, use an iterator \n",
    "my_list = [2, 4, 6, 8, 10, 12, 14, 16, 18, 20]\n",
    "iterator = iter(my_list)  \n",
    "for _ in range(5):\n",
    "    print(next(iterator))"
   ]
  },
  {
   "cell_type": "markdown",
   "id": "a8a63ccc-fd5b-4b92-9c17-31fa13882bf5",
   "metadata": {},
   "source": [
    "---"
   ]
  },
  {
   "cell_type": "markdown",
   "id": "0f05b9d9-1464-45c0-9a59-9ec14d586a3b",
   "metadata": {},
   "source": [
    "**Q4.** What is a generator function in python? Why yield keyword is used? Give an example of a generator\n",
    "function.\n",
    "\n",
    "**Answer :-** A generator function in Python is a special type of function that uses the yield keyword to yield values one at a time when iterated over, allowing for efficient memory usage and lazy evaluation."
   ]
  },
  {
   "cell_type": "code",
   "execution_count": 2,
   "id": "3ca283a4-f0d3-4a93-b773-fd0328d4cbe6",
   "metadata": {},
   "outputs": [
    {
     "name": "stdout",
     "output_type": "stream",
     "text": [
      "1\n",
      "2\n",
      "3\n",
      "4\n",
      "5\n"
     ]
    }
   ],
   "source": [
    "def count(n):\n",
    "    i = 1\n",
    "    while i <= n:\n",
    "        yield i\n",
    "        i += 1\n",
    "\n",
    "for num in count(5):\n",
    "    print(num)\n"
   ]
  },
  {
   "cell_type": "markdown",
   "id": "454fbee8-dcbc-44b4-8b22-e67e4743b27b",
   "metadata": {},
   "source": [
    "---\n",
    "\n",
    "**Q5.** Create a generator function for prime numbers less than 1000. Use the next() method to print the\n",
    "first 20 prime numbers.\n",
    "\n",
    "**Answer :-**"
   ]
  },
  {
   "cell_type": "code",
   "execution_count": 5,
   "id": "730208fa-c019-40ec-9299-b64664cc7b7a",
   "metadata": {},
   "outputs": [
    {
     "name": "stdout",
     "output_type": "stream",
     "text": [
      "2\n",
      "3\n",
      "5\n",
      "7\n",
      "11\n",
      "13\n",
      "17\n",
      "19\n",
      "23\n",
      "29\n",
      "31\n",
      "37\n",
      "41\n",
      "43\n",
      "47\n",
      "53\n",
      "59\n",
      "61\n",
      "67\n",
      "71\n"
     ]
    }
   ],
   "source": [
    "def is_prime(number):\n",
    "    if number <= 1:\n",
    "        return False\n",
    "    for i in range(2, int(number**0.5) + 1):\n",
    "        if (number % i) == 0:\n",
    "            return False\n",
    "    return True\n",
    "\n",
    "def generate_primes(limit):\n",
    "    num = 2\n",
    "    count = 0\n",
    "    while num < limit and count < 20:\n",
    "        if is_prime(num):\n",
    "            yield num\n",
    "            count += 1\n",
    "        num += 1\n",
    "\n",
    "# Usage:\n",
    "prime_generator = generate_primes(1000)\n",
    "for _ in range(20):\n",
    "    prime = next(prime_generator)\n",
    "    print(prime)\n"
   ]
  },
  {
   "cell_type": "markdown",
   "id": "87f9b4da-e5d6-4632-801d-b86e3a550af3",
   "metadata": {},
   "source": [
    "---\n",
    "---"
   ]
  }
 ],
 "metadata": {
  "kernelspec": {
   "display_name": "Python 3 (ipykernel)",
   "language": "python",
   "name": "python3"
  },
  "language_info": {
   "codemirror_mode": {
    "name": "ipython",
    "version": 3
   },
   "file_extension": ".py",
   "mimetype": "text/x-python",
   "name": "python",
   "nbconvert_exporter": "python",
   "pygments_lexer": "ipython3",
   "version": "3.10.12"
  }
 },
 "nbformat": 4,
 "nbformat_minor": 5
}
