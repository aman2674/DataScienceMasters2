{
 "cells": [
  {
   "cell_type": "markdown",
   "id": "6c7678c9",
   "metadata": {},
   "source": [
    "# Assignment Statistics Basic-2"
   ]
  },
  {
   "cell_type": "markdown",
   "id": "2827c3b4",
   "metadata": {},
   "source": [
    "Q1. **What are the three measures of central tendency?**\n",
    "   - The three measures of central tendency are:\n",
    "     1. Mean\n",
    "     2. Median\n",
    "     3. Mode\n",
    "\n",
    "Q2. **What is the difference between the mean, median, and mode? How are they used to measure the central tendency of a dataset?**\n",
    "   - The mean is the average value of a dataset, calculated by summing all values and dividing by the number of values.\n",
    "   - The median is the middle value when the dataset is arranged in ascending order. If there is an even number of values, the median is the average of the two middle values.\n",
    "   - The mode is the value that appears most frequently in the dataset.\n",
    "   - These measures are used to provide a summary of the center or typical value of a dataset. The mean is sensitive to outliers, while the median is robust to outliers. The mode is useful for categorical data or when identifying the most frequent value in a dataset.\n",
    "\n",
    "Q3. **Measure the three measures of central tendency for the given height data:**\n",
    "   - Mean: 177.7625\n",
    "   - Median: 177.5\n",
    "   - Mode: 178\n",
    "\n",
    "Q4. **Find the standard deviation for the given data:**\n",
    "   - Standard Deviation: 1.6419140673303022\n",
    "\n",
    "Q5. **How are measures of dispersion such as range, variance, and standard deviation used to describe the spread of a dataset? Provide an example.**\n",
    "   - Measures of dispersion quantify the extent to which data points vary from the central tendency measures (mean, median, mode). Range measures the difference between the maximum and minimum values. Variance and standard deviation measure the average deviation of data points from the mean.\n",
    "   - For example, in a dataset of exam scores, a large standard deviation indicates that the scores are widely spread out from the mean, while a small standard deviation indicates that the scores are close to the mean, providing insights into the variability or consistency of performance.\n",
    "\n",
    "Q6. **What is a Venn diagram?**\n",
    "   - A Venn diagram is a visual representation of the relationships between different sets or groups. It consists of overlapping circles or other shapes, with each circle representing a set and the overlap showing the intersection of the sets.\n",
    "\n",
    "Q7. **For the two given sets A = (2,3,4,5,6,7) & B = (0,2,6,8,10). Find:**\n",
    "   - (i) A ∩ B (Intersection): {2, 6}\n",
    "   - (ii) A ⋃ B (Union): {0, 2, 3, 4, 5, 6, 7, 8, 10}\n",
    "\n",
    "Q8. **What do you understand about skewness in data?**\n",
    "   - Skewness in data refers to the asymmetry or lack of symmetry in the distribution of data points. It indicates the degree to which the data deviate from a normal distribution. Positive skewness indicates a longer right tail, while negative skewness indicates a longer left tail.\n",
    "\n",
    "Q9. **If a data is right skewed then what will be the position of median with respect to mean?**\n",
    "   - In a right-skewed distribution, the mean will be greater than the median.\n",
    "\n",
    "Q10. **Explain the difference between covariance and correlation. How are these measures used in statistical analysis?**\n",
    "    - Covariance measures the degree to which two variables change together. It indicates the direction of the linear relationship between variables but not its strength. Correlation is a standardized measure that indicates both the direction and strength of the linear relationship between variables, ranging from -1 to 1. These measures are used to understand the relationship between variables in statistical analysis.\n",
    "\n",
    "Q11. **What is the formula for calculating the sample mean? Provide an example calculation for a dataset.**\n",
    "    - The formula for calculating the sample mean is:\n",
    "      \\( \\bar{x} = \\frac{\\sum_{i=1}^{n} x_i}{n} \\)\n",
    "    - Example: For a dataset {3, 4, 5, 6, 7}, the sample mean is:\n",
    "      \\( \\bar{x} = \\frac{3 + 4 + 5 + 6 + 7}{5} = \\frac{25}{5} = 5 \\)\n",
    "\n",
    "Q12. **For a normal distribution data what is the relationship between its measure of central tendency?**\n",
    "    - In a normal distribution, the mean, median, and mode are equal and located at the center of the distribution.\n",
    "\n",
    "Q13. **How is covariance different from correlation?**\n",
    "    - Covariance measures the direction of the linear relationship between two variables but does not provide information about the strength of the relationship. Correlation, on the other hand, is a standardized measure that indicates both the direction and strength of the linear relationship between variables.\n",
    "\n",
    "Q14. **How do outliers affect measures of central tendency and dispersion? Provide an example.**\n",
    "    - Outliers can significantly impact measures of central tendency, such"
   ]
  },
  {
   "cell_type": "code",
   "execution_count": null,
   "id": "bb7af3d1",
   "metadata": {},
   "outputs": [],
   "source": []
  }
 ],
 "metadata": {
  "kernelspec": {
   "display_name": "Python 3 (ipykernel)",
   "language": "python",
   "name": "python3"
  },
  "language_info": {
   "codemirror_mode": {
    "name": "ipython",
    "version": 3
   },
   "file_extension": ".py",
   "mimetype": "text/x-python",
   "name": "python",
   "nbconvert_exporter": "python",
   "pygments_lexer": "ipython3",
   "version": "3.8.16"
  }
 },
 "nbformat": 4,
 "nbformat_minor": 5
}
