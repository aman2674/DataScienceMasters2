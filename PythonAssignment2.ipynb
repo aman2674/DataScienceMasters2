{
 "cells": [
  {
   "cell_type": "markdown",
   "id": "a347f821-24ec-44df-af60-ec8b2dd0d430",
   "metadata": {},
   "source": [
    "# ***Python Assignment - 2***"
   ]
  },
  {
   "cell_type": "markdown",
   "id": "f3260f30-57f9-47b3-93f2-ee02e7fa2957",
   "metadata": {},
   "source": [
    "**Q1.** Create a python program to sort the given list of tuples based on integer value using a\n",
    "lambda function.\n",
    "\n",
    "[('Sachin Tendulkar', 34357), ('Ricky Ponting', 27483), ('Jack Kallis', 25534), ('Virat Kohli', 24936)]\n",
    "\n",
    "**Answer :-**"
   ]
  },
  {
   "cell_type": "code",
   "execution_count": 5,
   "id": "92960723-f97d-4927-9596-dd55b11b9405",
   "metadata": {},
   "outputs": [
    {
     "name": "stdout",
     "output_type": "stream",
     "text": [
      "('Virat Kohli', 24936)\n",
      "('Jack Kallis', 25534)\n",
      "('Ricky Ponting', 27483)\n",
      "('Sachin Tendulkar', 34357)\n"
     ]
    }
   ],
   "source": [
    "list1 = [('Sachin Tendulkar', 34357), ('Ricky Ponting', 27483), ('Jack Kallis', 25534), ('Virat Kohli', 24936)]\n",
    "\n",
    "sorted_list = sorted(list1, key=lambda x: x[1])\n",
    "for item in sorted_list:\n",
    "    print(item)"
   ]
  },
  {
   "cell_type": "markdown",
   "id": "cb80a569-947f-4977-b8c7-0dff00ff1b96",
   "metadata": {},
   "source": [
    "---\n",
    "\n",
    "**Q2.** Write a Python Program to find the squares of all the numbers in the given list of integers using\n",
    "lambda and map functions.\n",
    "\n",
    "[1, 2, 3, 4, 5, 6, 7, 8, 9, 10]\n",
    "\n",
    "**Answer :-**"
   ]
  },
  {
   "cell_type": "code",
   "execution_count": 14,
   "id": "df4e40b3-a489-4db0-b552-03b6cf802cf4",
   "metadata": {},
   "outputs": [
    {
     "name": "stdout",
     "output_type": "stream",
     "text": [
      "[1, 4, 9, 16, 25, 36, 49, 64, 81, 100]\n"
     ]
    }
   ],
   "source": [
    "list1 = [1, 2, 3, 4, 5, 6, 7, 8, 9, 10]\n",
    "sq_list  = list(map(lambda x: x**2,list1))\n",
    "print(sq_list)"
   ]
  },
  {
   "cell_type": "markdown",
   "id": "57e14f5d-03b6-4d34-903f-7f83e31fec7d",
   "metadata": {},
   "source": [
    "---\n",
    "**Q3.** Write a python program to convert the given list of integers into a tuple of strings. Use map and\n",
    "lambda functions\n",
    "\n",
    "Given String: [1, 2, 3, 4, 5, 6, 7, 8, 9, 10]\n",
    "\n",
    "Expected output: ('1', '2', '3', '4', '5', '6', '7', '8', '9', '10')\n",
    "\n",
    "**Answer :-**"
   ]
  },
  {
   "cell_type": "code",
   "execution_count": 18,
   "id": "1f9eb897-e35f-4324-bee9-1e2d958b068f",
   "metadata": {},
   "outputs": [
    {
     "name": "stdout",
     "output_type": "stream",
     "text": [
      "('1', '2', '3', '4', '5', '6', '7', '8', '9', '10')\n"
     ]
    }
   ],
   "source": [
    "list1 = [1, 2, 3, 4, 5, 6, 7, 8, 9, 10]\n",
    "tuple_str = tuple(map(lambda x: str(x),list1))\n",
    "print(tuple_str)"
   ]
  },
  {
   "cell_type": "code",
   "execution_count": 22,
   "id": "a81bb16b-b7cc-4406-a0fb-c0c007e7dd8a",
   "metadata": {},
   "outputs": [
    {
     "name": "stdout",
     "output_type": "stream",
     "text": [
      "15511210043330985984000000\n"
     ]
    }
   ],
   "source": [
    "from functools import reduce\n",
    "list1 = list(range(1,26))\n",
    "def multiply(x,y):\n",
    "    return x* y\n",
    "product = (reduce(multiply,list1))\n",
    "print(product)"
   ]
  },
  {
   "cell_type": "markdown",
   "id": "d6b831a7-af5a-4c21-8235-e61f115b6e52",
   "metadata": {},
   "source": [
    "---\n",
    "**Q5.** Write a python program to filter the numbers in a given list that are divisible by 2 and 3 using the filter function.\n",
    "[2, 3, 6, 9, 27, 60, 90, 120, 55, 46]\n",
    "\n",
    "**Answer :-**"
   ]
  },
  {
   "cell_type": "code",
   "execution_count": 3,
   "id": "a505f1b6-32f7-43f0-ba33-e1988269bf59",
   "metadata": {},
   "outputs": [
    {
     "name": "stdout",
     "output_type": "stream",
     "text": [
      "[6, 60, 90, 120]\n"
     ]
    }
   ],
   "source": [
    "list1 = [2, 3, 6, 9, 27, 60, 90, 120, 55, 46]\n",
    "filtered_number = list(filter(lambda x:x%2==0 and x%3==0,list1))\n",
    "print(filtered_number)"
   ]
  },
  {
   "cell_type": "markdown",
   "id": "8138642b-318b-4a98-ae2a-c91b628c0b3b",
   "metadata": {},
   "source": [
    "---\n",
    "**Q6.** Write a python program to find palindromes in the given list of strings using lambda and filter function.\n",
    "['python', 'php', 'aba', 'radar', 'level']\n",
    "\n",
    "**Answer :-**"
   ]
  },
  {
   "cell_type": "code",
   "execution_count": 5,
   "id": "40ecec71-20cb-4e86-b23d-6d8bb1855dfd",
   "metadata": {},
   "outputs": [
    {
     "name": "stdout",
     "output_type": "stream",
     "text": [
      "['php', 'aba', 'radar', 'level']\n"
     ]
    }
   ],
   "source": [
    "strings = ['python', 'php', 'aba', 'radar', 'level']\n",
    "result = list(filter(lambda x: x==x[::-1],strings))\n",
    "print(result)"
   ]
  },
  {
   "cell_type": "markdown",
   "id": "71efdb93-29a1-4686-96a1-124ad7b18655",
   "metadata": {},
   "source": [
    "---\n",
    "---"
   ]
  }
 ],
 "metadata": {
  "kernelspec": {
   "display_name": "Python 3 (ipykernel)",
   "language": "python",
   "name": "python3"
  },
  "language_info": {
   "codemirror_mode": {
    "name": "ipython",
    "version": 3
   },
   "file_extension": ".py",
   "mimetype": "text/x-python",
   "name": "python",
   "nbconvert_exporter": "python",
   "pygments_lexer": "ipython3",
   "version": "3.10.12"
  }
 },
 "nbformat": 4,
 "nbformat_minor": 5
}
