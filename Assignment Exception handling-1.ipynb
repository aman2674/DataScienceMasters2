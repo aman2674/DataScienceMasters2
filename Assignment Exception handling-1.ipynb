{
 "cells": [
  {
   "cell_type": "markdown",
   "id": "f8981740",
   "metadata": {},
   "source": [
    "# Assignment Exception handling-1"
   ]
  },
  {
   "cell_type": "markdown",
   "id": "bca1f40a",
   "metadata": {},
   "source": [
    "### Q1:- What is the Exception in python? Write the difference between Exceptions and Syntax errors.\n",
    "\n",
    "**Ans:-** In Python, an exception is an event that occurs during the execution of a program and disrupts the normal flow of instructions. When an error or exceptional condition is encountered, an exception is raised, and the normal flow of the program is interrupted. If the program does not handle the exception, it will terminate, and an error message will be displayed.\n",
    "\n",
    "#### Exception:\n",
    "\n",
    "- Occurs during the execution of a program.\n",
    "- Disrupts the normal flow of instructions.\n",
    "- Can be caused by various runtime errors.\n",
    "- Handled using try, except, and finally blocks.\n",
    "\n",
    "#### Syntax Error:\n",
    "\n",
    "- Occurs during the parsing phase before execution.\n",
    "- Results from errors in the code structure or syntax.\n",
    "- Examples include typos, missing parentheses, and incorrect indentation.\n",
    "- Must be fixed before the program is executed.\n",
    "\n",
    "\n",
    "### Q2. What happens when an exception is not handled? Explain with an example\n",
    "\n",
    "**Ans:-**\n",
    "When an exception is not handled in a program, it leads to the termination of the program, and an error message is displayed. This error message provides information about the type of exception that occurred and a traceback, which shows the sequence of function calls that led to the exception."
   ]
  },
  {
   "cell_type": "code",
   "execution_count": 1,
   "id": "0c5557ec",
   "metadata": {},
   "outputs": [
    {
     "ename": "ZeroDivisionError",
     "evalue": "division by zero",
     "output_type": "error",
     "traceback": [
      "\u001b[0;31m---------------------------------------------------------------------------\u001b[0m",
      "\u001b[0;31mZeroDivisionError\u001b[0m                         Traceback (most recent call last)",
      "Cell \u001b[0;32mIn[1], line 8\u001b[0m\n\u001b[1;32m      5\u001b[0m     \u001b[38;5;28;01mreturn\u001b[39;00m result\n\u001b[1;32m      7\u001b[0m \u001b[38;5;66;03m# Attempting to divide by zero without handling the exception\u001b[39;00m\n\u001b[0;32m----> 8\u001b[0m result \u001b[38;5;241m=\u001b[39m \u001b[43mdivide_numbers\u001b[49m\u001b[43m(\u001b[49m\u001b[38;5;241;43m10\u001b[39;49m\u001b[43m,\u001b[49m\u001b[43m \u001b[49m\u001b[38;5;241;43m0\u001b[39;49m\u001b[43m)\u001b[49m\n\u001b[1;32m     10\u001b[0m \u001b[38;5;66;03m# The program will terminate at this point if the exception is not handled\u001b[39;00m\n\u001b[1;32m     11\u001b[0m \u001b[38;5;28mprint\u001b[39m(\u001b[38;5;124m\"\u001b[39m\u001b[38;5;124mResult:\u001b[39m\u001b[38;5;124m\"\u001b[39m, result)\n",
      "Cell \u001b[0;32mIn[1], line 4\u001b[0m, in \u001b[0;36mdivide_numbers\u001b[0;34m(a, b)\u001b[0m\n\u001b[1;32m      3\u001b[0m \u001b[38;5;28;01mdef\u001b[39;00m \u001b[38;5;21mdivide_numbers\u001b[39m(a, b):\n\u001b[0;32m----> 4\u001b[0m     result \u001b[38;5;241m=\u001b[39m \u001b[43ma\u001b[49m\u001b[43m \u001b[49m\u001b[38;5;241;43m/\u001b[39;49m\u001b[43m \u001b[49m\u001b[43mb\u001b[49m\n\u001b[1;32m      5\u001b[0m     \u001b[38;5;28;01mreturn\u001b[39;00m result\n",
      "\u001b[0;31mZeroDivisionError\u001b[0m: division by zero"
     ]
    }
   ],
   "source": [
    "# Example: Division by zero without handling the exception\n",
    "\n",
    "def divide_numbers(a, b):\n",
    "    result = a / b\n",
    "    return result\n",
    "\n",
    "# Attempting to divide by zero without handling the exception\n",
    "result = divide_numbers(10, 0)\n",
    "\n",
    "# The program will terminate at this point if the exception is not handled\n",
    "print(\"Result:\", result)\n"
   ]
  },
  {
   "cell_type": "markdown",
   "id": "07658e4e",
   "metadata": {},
   "source": [
    "### Q3. Which Python statements are used to catch and handle exceptions? Explain with an example\n",
    "**Ans:-** In python, 'try', 'except', 'else' and 'finally' statements are used to catch and handle exceptions."
   ]
  },
  {
   "cell_type": "code",
   "execution_count": 2,
   "id": "c3990ce8",
   "metadata": {},
   "outputs": [
    {
     "name": "stdout",
     "output_type": "stream",
     "text": [
      "Division successful.\n",
      "This code always executes, whether an exception occurred or not.\n",
      "Result 1: 5.0\n",
      "Error: division by zero. Cannot divide by zero.\n",
      "This code always executes, whether an exception occurred or not.\n",
      "Result 2: None\n",
      "Error: unsupported operand type(s) for /: 'int' and 'str'. Make sure both numbers are valid.\n",
      "This code always executes, whether an exception occurred or not.\n",
      "Result 3: None\n"
     ]
    }
   ],
   "source": [
    "def divide_numbers(a,b):\n",
    "    try:\n",
    "        result = a/b\n",
    "    except ZeroDivisionError as e:\n",
    "        print(f\"Error: {e}. Cannot divide by zero.\")\n",
    "    except TypeError as e:\n",
    "        print(f\"Error: {e}. Make sure both numbers are valid.\")\n",
    "    else:\n",
    "        print(\"Division successful.\")\n",
    "        return result\n",
    "    finally:\n",
    "        print(\"This code always executes, whether an exception occurred or not.\")\n",
    "        \n",
    "result1 = divide_numbers(10,2)\n",
    "print(\"Result 1:\",result1)\n",
    "\n",
    "result2 = divide_numbers(10,0)\n",
    "print(\"Result 2:\",result2)\n",
    "\n",
    "\n",
    "result3 = divide_numbers(10,\"a\")\n",
    "print(\"Result 3:\",result3)\n",
    "        "
   ]
  },
  {
   "cell_type": "markdown",
   "id": "11a7c801",
   "metadata": {},
   "source": [
    "### Q4. Explain with an example a. try and else   b. finally  c. raise \n",
    " **Ans:-** "
   ]
  },
  {
   "cell_type": "code",
   "execution_count": 5,
   "id": "18a3d644",
   "metadata": {},
   "outputs": [
    {
     "name": "stdout",
     "output_type": "stream",
     "text": [
      "Division Successful\n",
      "5.0\n",
      "Error: division by zero. Cannot divide by zero\n",
      "None\n"
     ]
    }
   ],
   "source": [
    "#a. try and else\n",
    "# run \"try\" block, if it succeeds then \"else\" block will run. If an exception occurs, then \"except\" block will run, not \"else\" block \n",
    "def divide_numbers(a,b):\n",
    "    try:\n",
    "        result = a/b\n",
    "    except ZeroDivisionError as e:\n",
    "        print(f\"Error: {e}. Cannot divide by zero\")\n",
    "    else:\n",
    "        print(\"Division Successful\")\n",
    "        return result\n",
    "        \n",
    "result1 = divide_numbers(10,2) # \"else\" block will run\n",
    "print(result1)\n",
    "result2 = divide_numbers(10,0) # \"except\" block will run\n",
    "print(result2)\n"
   ]
  },
  {
   "cell_type": "code",
   "execution_count": 6,
   "id": "f0da7735",
   "metadata": {},
   "outputs": [
    {
     "name": "stdout",
     "output_type": "stream",
     "text": [
      "Finally block will execute\n",
      "5.0\n",
      "Finally block will execute\n",
      "Error: division by zero. Cannot divide by zero\n"
     ]
    }
   ],
   "source": [
    "#b. finally\n",
    "# run \"try\" block, if it succeeds or not \"finally\" block will run\n",
    "def divide_numbers(a,b):\n",
    "    try:\n",
    "        result = a/b\n",
    "        return (result)\n",
    "    except ZeroDivisionError as e:\n",
    "        return (f\"Error: {e}. Cannot divide by zero\")\n",
    "    finally:\n",
    "        print(\"Finally block will execute\")\n",
    "        \n",
    "result1 = divide_numbers(10,2) # \"else\" block will run\n",
    "print(result1)\n",
    "result2 = divide_numbers(10,0) # \"except\" block will run\n",
    "print(result2)\n"
   ]
  },
  {
   "cell_type": "code",
   "execution_count": 7,
   "id": "b0b29b72",
   "metadata": {},
   "outputs": [
    {
     "name": "stdout",
     "output_type": "stream",
     "text": [
      "Value is positive.\n",
      "Error: Negative value is not allowed.\n"
     ]
    }
   ],
   "source": [
    "#c. raise\n",
    "#  the raise statement is used to explicitly raise a ValueError \n",
    "def check_positive_number(value):\n",
    "    try:\n",
    "        if value < 0:\n",
    "            raise ValueError(\"Negative value is not allowed.\")\n",
    "        else:\n",
    "            print(\"Value is positive.\")\n",
    "    except ValueError as e:\n",
    "        print(f\"Error: {e}\")\n",
    "\n",
    "# Example usage\n",
    "check_positive_number(5)   # Value is positive.\n",
    "check_positive_number(-3)  # Error: Negative value is not allowed.\n"
   ]
  },
  {
   "cell_type": "markdown",
   "id": "8a53a8a9",
   "metadata": {},
   "source": [
    "### Q5. What are Custom Exceptions in python? Why do we need Custom Exceptions? Explain with an example\n",
    "**Ans:-**\n",
    "In Python, custom exceptions, also known as user-defined exceptions, allow programmers to create their own exception classes. This is useful when the standard built-in exceptions do not fully capture the nature of a specific error in a program.\n",
    "\n",
    "**Why do we need Custom Exceptions?**\n",
    "- Clarity and Readability: Custom exceptions can make code more readable and self-explanatory by providing specific names for different types of errors.\n",
    "\n",
    "- Modularity: They allow for better modularity and abstraction. Custom exceptions can be defined in a module and reused across multiple parts of a program or even in different projects.\n",
    "\n",
    "- Granular Error Handling: Custom exceptions allow for more granular error handling. \n",
    "\n"
   ]
  },
  {
   "cell_type": "code",
   "execution_count": 8,
   "id": "3982c8c9",
   "metadata": {},
   "outputs": [
    {
     "name": "stdout",
     "output_type": "stream",
     "text": [
      "Value is positive.\n",
      "Error: Negative value -3 is not allowed.\n"
     ]
    }
   ],
   "source": [
    "class NegativeValueError(Exception):\n",
    "    \"\"\"Custom exception for handling negative values.\"\"\"\n",
    "\n",
    "    def __init__(self, value):\n",
    "        self.value = value\n",
    "        super().__init__(f\"Negative value {value} is not allowed.\")\n",
    "\n",
    "def process_positive_number(value):\n",
    "    try:\n",
    "        if value < 0:\n",
    "            raise NegativeValueError(value)\n",
    "        else:\n",
    "            print(\"Value is positive.\")\n",
    "    except NegativeValueError as e:\n",
    "        print(f\"Error: {e}\")\n",
    "\n",
    "# Example usage\n",
    "process_positive_number(5)   # Value is positive.\n",
    "process_positive_number(-3)  # Error: Negative value -3 is not allowed.\n"
   ]
  },
  {
   "cell_type": "markdown",
   "id": "c23b990e",
   "metadata": {},
   "source": [
    "### Q6. Create a custom exception clcss. Use this class to handle an exception.\n",
    "**Ans:-**"
   ]
  },
  {
   "cell_type": "code",
   "execution_count": 9,
   "id": "56399646",
   "metadata": {},
   "outputs": [
    {
     "name": "stdout",
     "output_type": "stream",
     "text": [
      "Value is positive.\n",
      "Error: Negative value -3 is not allowed.\n"
     ]
    }
   ],
   "source": [
    "class NegativeValueError(Exception):\n",
    "    \"\"\"Custom exception for handling negative values.\"\"\"\n",
    "\n",
    "    def __init__(self, value):\n",
    "        self.value = value\n",
    "        super().__init__(f\"Negative value {value} is not allowed.\")\n",
    "\n",
    "def process_positive_number(value):\n",
    "    try:\n",
    "        if value < 0:\n",
    "            raise NegativeValueError(value)\n",
    "        else:\n",
    "            print(\"Value is positive.\")\n",
    "    except NegativeValueError as e:\n",
    "        print(f\"Error: {e}\")\n",
    "\n",
    "# Example usage\n",
    "process_positive_number(5)   # Value is positive.\n",
    "process_positive_number(-3)  # Error: Negative value -3 is not allowed.\n"
   ]
  },
  {
   "cell_type": "code",
   "execution_count": null,
   "id": "d14c3921",
   "metadata": {},
   "outputs": [],
   "source": []
  }
 ],
 "metadata": {
  "kernelspec": {
   "display_name": "Python 3 (ipykernel)",
   "language": "python",
   "name": "python3"
  },
  "language_info": {
   "codemirror_mode": {
    "name": "ipython",
    "version": 3
   },
   "file_extension": ".py",
   "mimetype": "text/x-python",
   "name": "python",
   "nbconvert_exporter": "python",
   "pygments_lexer": "ipython3",
   "version": "3.8.16"
  }
 },
 "nbformat": 4,
 "nbformat_minor": 5
}
