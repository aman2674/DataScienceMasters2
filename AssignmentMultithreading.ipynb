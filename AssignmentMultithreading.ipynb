{
 "cells": [
  {
   "cell_type": "markdown",
   "id": "a22a777a",
   "metadata": {},
   "source": [
    "# Assignment Multithreading"
   ]
  },
  {
   "cell_type": "markdown",
   "id": "63f53d87",
   "metadata": {},
   "source": [
    "### Q1. What is multithreading in python? hy is it used? Name the module used to handle threads in python\n",
    "**Ans:-** Multithreading in Python refers to the concurrent execution of multiple threads within a single process. A thread is a lightweight process that shares the same resources (memory space) as other threads within the same process. Multithreading is a way to achieve parallelism, allowing different parts of a program to run concurrently, potentially improving performance and responsiveness.\n",
    "\n",
    "\n",
    "**Why Multithreading is Used:**\n",
    "\n",
    "- Parallelism: Multithreading enables parallelism, allowing multiple tasks to be executed concurrently. This can lead to improved performance in scenarios where tasks can be executed independently.\n",
    "- Responsiveness: In graphical user interface (GUI) applications, multithreading can help maintain a responsive user interface. \n",
    "- Concurrency: Multithreading is useful in scenarios where different parts of a program need to execute concurrently, such as handling multiple network connections or performing background tasks while the main program continues to run.\n",
    "- Efficient Resource Utilization: Threads share the same memory space, which can lead to efficient utilization of resources. They are suitable for tasks that involve a lot of I/O operations, where one thread can be waiting for I/O while others continue to execute.\n",
    "\n",
    "\n",
    "In Python, the threading module is commonly used to handle threads. The threading module provides a high-level interface for creating and managing threads. It allows you to write concurrent code by creating threads and coordinating their execution.\n",
    "\n",
    "\n",
    "### Q2 :- Why threading module used? rite the use of the following functions\n",
    "1. activeCount()\n",
    "2. currentThread()\n",
    "3. enumerate()\n",
    "\n",
    "\n",
    "**Ans:-** In Python, the threading module is commonly used to handle threads. The threading module provides a high-level interface for creating and managing threads. It allows you to write concurrent code by creating threads and coordinating their execution.\n"
   ]
  },
  {
   "cell_type": "code",
   "execution_count": 1,
   "id": "a08c113e",
   "metadata": {},
   "outputs": [
    {
     "name": "stdout",
     "output_type": "stream",
     "text": [
      "Working...Working...\n",
      "\n",
      "Working...\n",
      "Thread name: MainThread, Alive: True\n",
      "Thread name: IOPub, Alive: True\n",
      "Thread name: Heartbeat, Alive: True\n",
      "Thread name: Thread-3, Alive: True\n",
      "Thread name: Thread-4, Alive: True\n",
      "Thread name: Control, Alive: True\n",
      "Thread name: IPythonHistorySavingThread, Alive: True\n",
      "Thread name: Thread-2, Alive: True\n"
     ]
    }
   ],
   "source": [
    "# activeCount()\n",
    "import threading\n",
    "\n",
    "def worker():\n",
    "    print(\"Working...\")\n",
    "    \n",
    "# create and start multiple threads\n",
    "threads = [threading.Thread(target=worker) for _ in range(3)]\n",
    "for thread in threads:\n",
    "    thread.start()\n",
    "    \n",
    "for thread in threading.enumerate():\n",
    "    print(f\"Thread name: {thread.name}, Alive: {thread.is_alive()}\")"
   ]
  },
  {
   "cell_type": "code",
   "execution_count": 2,
   "id": "97dae309",
   "metadata": {},
   "outputs": [
    {
     "name": "stdout",
     "output_type": "stream",
     "text": [
      "Current thread name: MyThread\n"
     ]
    }
   ],
   "source": [
    "# currentThread()\n",
    "import threading\n",
    "\n",
    "def print_current_thread():\n",
    "    current_thread = threading.currentThread()\n",
    "    print(f\"Current thread name: {current_thread.name}\")\n",
    "\n",
    "# Create and start a thread\n",
    "my_thread = threading.Thread(target=print_current_thread, name=\"MyThread\")\n",
    "my_thread.start()"
   ]
  },
  {
   "cell_type": "code",
   "execution_count": 4,
   "id": "d5c3f39b",
   "metadata": {},
   "outputs": [
    {
     "name": "stdout",
     "output_type": "stream",
     "text": [
      "Working...\n",
      "Working...\n",
      "Working...\n",
      "Thread name: MainThread, Alive: True\n",
      "Thread name: IOPub, Alive: True\n",
      "Thread name: Heartbeat, Alive: True\n",
      "Thread name: Thread-3, Alive: True\n",
      "Thread name: Thread-4, Alive: True\n",
      "Thread name: Control, Alive: True\n",
      "Thread name: IPythonHistorySavingThread, Alive: True\n",
      "Thread name: Thread-2, Alive: True\n"
     ]
    }
   ],
   "source": [
    "# enumerate()\n",
    "import threading\n",
    "\n",
    "def worker():\n",
    "    print(\"Working...\")\n",
    "\n",
    "# Create and start multiple threads\n",
    "threads = [threading.Thread(target=worker) for _ in range(3)]\n",
    "for thread in threads:\n",
    "    thread.start()\n",
    "\n",
    "# Print information about all active threads\n",
    "for thread in threading.enumerate():\n",
    "    print(f\"Thread name: {thread.name}, Alive: {thread.is_alive()}\")"
   ]
  },
  {
   "cell_type": "markdown",
   "id": "2d6df0b8",
   "metadata": {},
   "source": [
    "### Q3. Explain the following functions \n",
    "1. run()\n",
    "2. start()\n",
    "3. join()\n",
    "4. isAlive()\n",
    "\n",
    "**Ans:-** \n",
    "- run() Method: The run() method is the entry point for the thread's activity. When you create a new thread object, you typically provide a target function/method that is executed when the thread is started.\n",
    "- start() Method: The start() method is used to start the execution of the thread. It initializes the thread and calls the run() method.\n",
    "- join() Method: The join() method is used to wait for the thread to complete its execution before proceeding with the rest of the program. It blocks the calling thread until the thread whose join() method is called completes.\n",
    "- isAlive() Method: The isAlive() method is used to check whether a thread is still alive or has completed its execution. It returns True if the thread is currently executing or False if it has finished.\n",
    "\n",
    "### Q4. Write a python program to create two threads. Thread one must print the list of squares and thread two must print the list of cubes\n",
    "\n",
    "**Ans:-**"
   ]
  },
  {
   "cell_type": "code",
   "execution_count": 5,
   "id": "efd3f1ef",
   "metadata": {},
   "outputs": [
    {
     "name": "stdout",
     "output_type": "stream",
     "text": [
      "Square: 1\n",
      "Square: 4\n",
      "Square: 9\n",
      "Square: 16\n",
      "Square: 25\n",
      "Cube: 1\n",
      "Cube: 8\n",
      "Cube: 27\n",
      "Cube: 64\n",
      "Cube: 125\n",
      "Both threads have finished.\n"
     ]
    }
   ],
   "source": [
    "import threading\n",
    "def print_squares(numbers):\n",
    "    for num in numbers:\n",
    "        print(f\"Square: {num * num}\")\n",
    "def print_cubes(numbers):\n",
    "    for num in numbers:\n",
    "        print(f\"Cube: {num * num * num}\")\n",
    "\n",
    "numbers_list = [1, 2, 3, 4, 5]\n",
    "\n",
    "thread_squares = threading.Thread(target=print_squares,args = (numbers_list,))\n",
    "thread_cubes = threading.Thread(target=print_cubes,args = (numbers_list,))\n",
    "\n",
    "thread_squares.start()\n",
    "thread_cubes.start()\n",
    "\n",
    "\n",
    "thread_squares.join()\n",
    "thread_cubes.join()\n",
    "print(\"Both threads have finished.\")\n"
   ]
  },
  {
   "cell_type": "markdown",
   "id": "9bda5bc8",
   "metadata": {},
   "source": [
    "### Q5. State advantages and disadvantages of multithreading.\n",
    "**Ans:-**\n",
    "\n",
    "\n",
    "**Advantages of Multithreading:**\n",
    "\n",
    "1. Parallelism: Concurrent execution of tasks leads to improved performance.\n",
    "2. Efficient Resource Utilization: Threads share memory space, reducing resource overhead.\n",
    "3. Responsiveness: Keeps applications responsive, especially in GUI environments.\n",
    "4. Simplified Program Structure: Modularity and clearer code structure.\n",
    "5. Improved Throughput for I/O-Bound Tasks: Threads can continue execution during I/O operations.\n",
    "\n",
    "**Disadvantages of Multithreading:**\n",
    "\n",
    "1. Complexity and Debugging: Increased complexity and challenging debugging.\n",
    "2. Race Conditions: Concurrent access to shared data can lead to unpredictable behavior.\n",
    "3. Difficulty in Reproducing Bugs: Intermittent multithreading bugs are hard to reproduce.\n",
    "4. Deadlocks: Threads can be blocked waiting for each other, leading to deadlock.\n",
    "5. Global Interpreter Lock (GIL): Limits true parallelism in CPython.\n",
    "6. Increased Memory Overhead: Each thread has its own stack and data, increasing memory usage.\n",
    "\n",
    "### Q6. Explain deadlocks and race conditions.\n",
    "**Ans:-** \n",
    "- Race Conditions: Concurrent access to shared data can lead to unpredictable behavior.\n",
    "- Deadlocks: Threads can be blocked waiting for each other, leading to deadlock."
   ]
  }
 ],
 "metadata": {
  "kernelspec": {
   "display_name": "Python 3 (ipykernel)",
   "language": "python",
   "name": "python3"
  },
  "language_info": {
   "codemirror_mode": {
    "name": "ipython",
    "version": 3
   },
   "file_extension": ".py",
   "mimetype": "text/x-python",
   "name": "python",
   "nbconvert_exporter": "python",
   "pygments_lexer": "ipython3",
   "version": "3.8.16"
  }
 },
 "nbformat": 4,
 "nbformat_minor": 5
}
