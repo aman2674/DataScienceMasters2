{
 "cells": [
  {
   "cell_type": "markdown",
   "id": "9832d389",
   "metadata": {},
   "source": [
    "# Assignment Numpy Basic\n",
    "\n",
    "\n",
    "\n",
    "Consider the below code to answer further questions:\n",
    "import numpy as np\n",
    "list_ = [ ‘1’ , ’2’ , ‘3’ , ‘4’ , ‘5’ ]\n",
    "array_list = np.array(object = list_)\n",
    "\n",
    "\n",
    "### Q1. Is there any difference in the data type of variables list_ and array_list? If there is then write a code to print the data types of both the variables.\n",
    "**Ans :-**"
   ]
  },
  {
   "cell_type": "code",
   "execution_count": 7,
   "id": "bc7bd762",
   "metadata": {},
   "outputs": [
    {
     "name": "stdout",
     "output_type": "stream",
     "text": [
      "Data type of list_ :-  <class 'list'>\n",
      "Data type of array_list :-  <class 'numpy.ndarray'>\n"
     ]
    }
   ],
   "source": [
    "import numpy as np\n",
    "list_ = [ '1' , '2' , '3', '4' ,'5']\n",
    "array_list = np.array(object = list_)\n",
    "print(\"Data type of list_ :- \",type(list_))\n",
    "print(\"Data type of array_list :- \",type(array_list))"
   ]
  },
  {
   "cell_type": "markdown",
   "id": "4b4de90b",
   "metadata": {},
   "source": [
    "### Q2. Write a code to print the data type of each and every element of both the variables list_ and array_list.\n",
    "**Ans :-**"
   ]
  },
  {
   "cell_type": "code",
   "execution_count": 9,
   "id": "bb1bc76b",
   "metadata": {},
   "outputs": [
    {
     "name": "stdout",
     "output_type": "stream",
     "text": [
      "Data type of element of list_ :-  <class 'str'>\n",
      "Data type of element of list_ :-  <class 'str'>\n",
      "Data type of element of list_ :-  <class 'str'>\n",
      "Data type of element of list_ :-  <class 'str'>\n",
      "Data type of element of list_ :-  <class 'str'>\n",
      "Data type of element of array_list :-  <class 'numpy.str_'>\n",
      "Data type of element of array_list :-  <class 'numpy.str_'>\n",
      "Data type of element of array_list :-  <class 'numpy.str_'>\n",
      "Data type of element of array_list :-  <class 'numpy.str_'>\n",
      "Data type of element of array_list :-  <class 'numpy.str_'>\n"
     ]
    }
   ],
   "source": [
    "for item in list_:\n",
    "    print(\"Data type of element of list_ :- \",type(item))\n",
    "for item in array_list:\n",
    "    print(\"Data type of element of array_list :- \",type(item))"
   ]
  },
  {
   "cell_type": "markdown",
   "id": "a30cb7d5",
   "metadata": {},
   "source": [
    "### Q3. Considering the following changes in the variable, array_list:\n",
    "array_list = np.array(object = list_, dtype = int)\n",
    "### Will there be any difference in the data type of the elements present in both the variables, list_ and array_list? If so then print the data types of each and every element present in both the variables, list_ and array_list.\n",
    "**Ans:-**"
   ]
  },
  {
   "cell_type": "code",
   "execution_count": 11,
   "id": "9e3ebdf6",
   "metadata": {},
   "outputs": [
    {
     "name": "stdout",
     "output_type": "stream",
     "text": [
      "Data type of element of list_ :-  <class 'str'>\n",
      "Data type of element of list_ :-  <class 'str'>\n",
      "Data type of element of list_ :-  <class 'str'>\n",
      "Data type of element of list_ :-  <class 'str'>\n",
      "Data type of element of list_ :-  <class 'str'>\n",
      "Data type of element of array_list :-  <class 'numpy.int64'>\n",
      "Data type of element of array_list :-  <class 'numpy.int64'>\n",
      "Data type of element of array_list :-  <class 'numpy.int64'>\n",
      "Data type of element of array_list :-  <class 'numpy.int64'>\n",
      "Data type of element of array_list :-  <class 'numpy.int64'>\n"
     ]
    }
   ],
   "source": [
    "array_list = np.array(object = list_, dtype = int)\n",
    "\n",
    "for item in list_:\n",
    "    print(\"Data type of element of list_ :- \",type(item))\n",
    "for item in array_list:\n",
    "    print(\"Data type of element of array_list :- \",type(item))"
   ]
  },
  {
   "cell_type": "markdown",
   "id": "455c621c",
   "metadata": {},
   "source": [
    "Consider the below code to answer further questions:\n",
    "\n",
    "import numpy as np\n",
    "\n",
    "num_list = [ [ 1 , 2 , 3 ] , [ 4 , 5 , 6 ] ]\n",
    "\n",
    "num_array = np.array(object = num_list)\n",
    "### Q4. Write a code to find the following characteristics of variable, num_array:\n",
    "### (i) shape\n",
    "### (ii) size"
   ]
  },
  {
   "cell_type": "code",
   "execution_count": 12,
   "id": "565f87b3",
   "metadata": {},
   "outputs": [],
   "source": [
    "import numpy as np\n",
    "num_list = [ [ 1 , 2 , 3 ] , [ 4 , 5 , 6 ] ]\n",
    "num_array = np.array(object = num_list)"
   ]
  },
  {
   "cell_type": "code",
   "execution_count": 14,
   "id": "a61945db",
   "metadata": {},
   "outputs": [
    {
     "data": {
      "text/plain": [
       "(2, 3)"
      ]
     },
     "execution_count": 14,
     "metadata": {},
     "output_type": "execute_result"
    }
   ],
   "source": [
    "num_array.shape"
   ]
  },
  {
   "cell_type": "code",
   "execution_count": 15,
   "id": "2360f546",
   "metadata": {},
   "outputs": [
    {
     "data": {
      "text/plain": [
       "6"
      ]
     },
     "execution_count": 15,
     "metadata": {},
     "output_type": "execute_result"
    }
   ],
   "source": [
    "num_array.size"
   ]
  },
  {
   "cell_type": "markdown",
   "id": "d890e94d",
   "metadata": {},
   "source": [
    "### Q5. Write a code to create numpy array of 3*3 matrix containing zeros only, using a numpy array creation function.\n",
    "**Ans:-**"
   ]
  },
  {
   "cell_type": "code",
   "execution_count": 16,
   "id": "088ade34",
   "metadata": {},
   "outputs": [
    {
     "name": "stdout",
     "output_type": "stream",
     "text": [
      "Array of zeros:\n",
      "[[0. 0. 0.]\n",
      " [0. 0. 0.]\n",
      " [0. 0. 0.]]\n"
     ]
    }
   ],
   "source": [
    "zero_array = np.zeros((3, 3))\n",
    "print(\"Array of zeros:\")\n",
    "print(zero_array)"
   ]
  },
  {
   "cell_type": "markdown",
   "id": "4907ad0a",
   "metadata": {},
   "source": [
    "### Q6. Create an identity matrix of shape (5,5) using numpy functions?\n",
    "**Ans :-**"
   ]
  },
  {
   "cell_type": "code",
   "execution_count": 17,
   "id": "440271a0",
   "metadata": {},
   "outputs": [
    {
     "name": "stdout",
     "output_type": "stream",
     "text": [
      "Identity matrix:\n",
      "[[1. 0. 0. 0. 0.]\n",
      " [0. 1. 0. 0. 0.]\n",
      " [0. 0. 1. 0. 0.]\n",
      " [0. 0. 0. 1. 0.]\n",
      " [0. 0. 0. 0. 1.]]\n"
     ]
    }
   ],
   "source": [
    "identity_matrix = np.identity(5)\n",
    "print(\"Identity matrix:\")\n",
    "print(identity_matrix)"
   ]
  }
 ],
 "metadata": {
  "kernelspec": {
   "display_name": "Python 3 (ipykernel)",
   "language": "python",
   "name": "python3"
  },
  "language_info": {
   "codemirror_mode": {
    "name": "ipython",
    "version": 3
   },
   "file_extension": ".py",
   "mimetype": "text/x-python",
   "name": "python",
   "nbconvert_exporter": "python",
   "pygments_lexer": "ipython3",
   "version": "3.8.16"
  }
 },
 "nbformat": 4,
 "nbformat_minor": 5
}
