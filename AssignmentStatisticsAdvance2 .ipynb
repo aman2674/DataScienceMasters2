{
 "cells": [
  {
   "cell_type": "markdown",
   "id": "41797ad0",
   "metadata": {},
   "source": [
    "# Assignment Statistics Advance 2 "
   ]
  },
  {
   "cell_type": "markdown",
   "id": "8243d50e",
   "metadata": {},
   "source": [
    "\n",
    "### Q1: What are the Probability Mass Function (PMF) and Probability Density Function (PDF)? Explain with an example.\n",
    "**Ans :-**\n",
    "- **PMF**: Probability Mass Function is used to describe the probability of a discrete random variable taking on a specific value. It assigns probabilities to discrete outcomes.\n",
    "- **PDF**: Probability Density Function is used to describe the probability of a continuous random variable taking on a specific value or falling within a range of values. It represents the relative likelihood of different outcomes in a continuous distribution.\n",
    "- **Example**: \n",
    "  - For PMF: Consider rolling a fair six-sided die. The PMF would give the probability of getting each number (1, 2, 3, 4, 5, or 6) on the die.\n",
    "  - For PDF: Consider the height of adult humans. The PDF would describe the probability of a person having a specific height within a given range, such as between 5 feet 9 inches and 5 feet 10 inches.\n",
    "\n",
    "### Q2: What is Cumulative Density Function (CDF)? Explain with an example. Why CDF is used?\n",
    "- CDF is a function that gives the probability that a random variable is less than or equal to a certain value. It accumulates the probabilities up to a given point.\n",
    "- **Example**: \n",
    "  - In a normal distribution, the CDF gives the probability that a random variable falls below a particular value. For instance, the CDF at a value of 2 in a standard normal distribution would give the probability that a random variable from that distribution is less than or equal to 2.\n",
    "- **Importance**: CDF provides a comprehensive summary of the distribution and is useful for various statistical analyses and hypothesis testing.\n",
    "\n",
    "### Q3: What are some examples of situations where the normal distribution might be used as a model? Explain how the parameters of the normal distribution relate to the shape of the distribution.\n",
    "- The normal distribution is commonly used in situations where the data follows a symmetric bell-shaped curve, such as:\n",
    "  - Heights and weights of people in a population.\n",
    "  - Test scores in standardized tests.\n",
    "  - Errors in measurements.\n",
    "- **Parameters**: The mean (μ) of the normal distribution determines the location of the peak of the curve, while the standard deviation (σ) determines the spread or width of the distribution. A larger standard deviation results in a wider and flatter curve.\n",
    "\n",
    "### Q4: Explain the importance of Normal Distribution. Give a few real-life examples of NormalDistribution.\n",
    "- The normal distribution is essential in statistics due to its properties, such as symmetry and well-understood characteristics.\n",
    "- **Examples**:\n",
    "  - IQ scores often follow a normal distribution.\n",
    "  - Blood pressure measurements in a population.\n",
    "  - Distribution of exam scores in large student populations.\n",
    "\n",
    "### Q5: What is Bernaulli Distribution? Give an Example. What is the difference between Bernoulli Distribution and Binomial Distribution?\n",
    "- Bernoulli Distribution models the probability of success or failure in a single experiment/trial.\n",
    "- **Example**: \n",
    "  - Flipping a fair coin (success for heads, failure for tails) where the outcome is binary.\n",
    "- **Difference from Binomial Distribution**: \n",
    "  - Bernoulli is for a single trial, whereas Binomial is for multiple independent trials.\n",
    "\n",
    "### Q6. Consider a dataset with a mean of 50 and a standard deviation of 10. If we assume that the dataset is normally distributed, what is the probability that a randomly selected observation will be greater than 60? Use the appropriate formula and show your calculations.\n",
    "- To calculate the probability that a randomly selected observation will be greater than 60 in a normally distributed dataset with mean 50 and standard deviation 10, we use the z-score formula and the standard normal distribution table.\n",
    "\n",
    "### Q7: Explain uniform Distribution with an example.\n",
    "- Uniform Distribution is a continuous probability distribution where all outcomes are equally likely within a given range.\n",
    "- **Example**: \n",
    "  - Rolling a fair six-sided die, where each outcome (1, 2, 3, 4, 5, or 6) is equally likely.\n",
    "  \n",
    "### Q8: What is the z score? State the importance of the z score.\n",
    "- Z-score is a measure of how many standard deviations a data point is from the mean of a dataset. It standardizes data for comparison.\n",
    "- **Importance**: \n",
    "  - It allows for the comparison of data from different normal distributions.\n",
    "  - It helps identify outliers and unusual observations in a dataset.\n",
    "\n",
    "### Q9: What is Central Limit Theorem? State the significance of the Central Limit Theorem.\n",
    "- CLT states that the distribution of sample means of any independent, identically distributed random variables approaches a normal distribution as the sample size increases, regardless of the shape of the original distribution.\n",
    "- **Significance**: \n",
    "  - It forms the basis of statistical inference, such as hypothesis testing and confidence intervals.\n",
    "  - It allows us to make inferences about population parameters from sample statistics.\n",
    "\n",
    "### Q10: State the assumptions of the Central Limit Theorem.\n",
    "- The random variables should be independent.\n",
    "- The random variables should have identical distributions.\n",
    "- The sample size should be sufficiently large."
   ]
  },
  {
   "cell_type": "code",
   "execution_count": null,
   "id": "b92edaf1",
   "metadata": {},
   "outputs": [],
   "source": []
  }
 ],
 "metadata": {
  "kernelspec": {
   "display_name": "Python 3 (ipykernel)",
   "language": "python",
   "name": "python3"
  },
  "language_info": {
   "codemirror_mode": {
    "name": "ipython",
    "version": 3
   },
   "file_extension": ".py",
   "mimetype": "text/x-python",
   "name": "python",
   "nbconvert_exporter": "python",
   "pygments_lexer": "ipython3",
   "version": "3.8.16"
  }
 },
 "nbformat": 4,
 "nbformat_minor": 5
}
