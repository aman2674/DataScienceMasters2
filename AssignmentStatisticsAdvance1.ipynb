{
 "cells": [
  {
   "cell_type": "markdown",
   "id": "8c3c634a",
   "metadata": {},
   "source": [
    "# Assignment Statistics Advance-1"
   ]
  },
  {
   "cell_type": "markdown",
   "id": "769e985d",
   "metadata": {},
   "source": [
    "### Q1. What is the Probability density function?\n",
    "**Ans :-** Probability density function(PDF) is a funciton that describe the likelihood of a continous random variable taking on a certain value\n",
    "\n",
    "### Q2. What are the types of Probability distribution?\n",
    "**Ans :-** \n",
    "1. Discrete Probability Distributions: \n",
    "2. Normal Distribution (Gaussian Distribution)\n",
    "3. Exponential Distribution\n",
    "4. Uniform Distribution\n",
    "\n",
    "### Q3. Write a Python function to calculate the probability density function of a normal distribution with given mean and standard deviation at a given point.\n",
    "**Ans :-** "
   ]
  },
  {
   "cell_type": "code",
   "execution_count": 1,
   "id": "7405f0f3",
   "metadata": {},
   "outputs": [
    {
     "name": "stdout",
     "output_type": "stream",
     "text": [
      "PDF value at x =  0.5 : 0.3520653267642995\n"
     ]
    }
   ],
   "source": [
    "import numpy as np\n",
    "from scipy.stats import norm\n",
    "\n",
    "def normal_pdf(x,mean,std):\n",
    "    pdf_value = norm.pdf(x,loc=mean,scale= std)\n",
    "    return pdf_value\n",
    "mean = 0\n",
    "std = 1\n",
    "x = 0.5\n",
    "pdf_value = normal_pdf(x,mean,std)\n",
    "print(\"PDF value at x = \",x,':',pdf_value)"
   ]
  },
  {
   "cell_type": "markdown",
   "id": "0905f8d9",
   "metadata": {},
   "source": [
    "### Q4. What are the properties of Binomial distribution? Give two examples of events where binomial distribution can be applied.\n",
    "**Ans :-**\n",
    "The binomial distribution is a discrete probability distribution that describes the number of successes in a fixed number of independent Bernoulli trials, where each trial has two possible outcomes: success (with probability p) and failure (with probability q = 1 - p). The properties of the binomial distribution include:\n",
    "\n",
    "1. **Fixed Number of Trials**: The number of trials (n) is fixed in advance.\n",
    "2. **Independent Trials**: Each trial is independent of the others.\n",
    "3. **Two Outcomes**: Each trial has exactly two possible outcomes.\n",
    "4. **Constant Probability of Success**: The probability of success (p) is the same for each trial.\n",
    "5. **Discrete Outcome**: The number of successes (k) can only take on integer values from 0 to n.\n",
    "\n",
    "Two examples of events where the binomial distribution can be applied are:\n",
    "\n",
    "1. **Coin Flips**: Consider flipping a fair coin (with probability of heads, p = 0.5) 10 times. The number of heads obtained in these 10 flips follows a binomial distribution with parameters n = 10 and p = 0.5.\n",
    "\n",
    "2. **Product Defects**: Suppose a manufacturing process produces items with a defect rate of 5%. If we randomly select 20 items from this process, the number of defective items among the 20 follows a binomial distribution with parameters n = 20 and p = 0.05. We can use this distribution to calculate probabilities such as the likelihood of obtaining a certain number of defective items in the sample."
   ]
  },
  {
   "cell_type": "markdown",
   "id": "3805397a",
   "metadata": {},
   "source": [
    "### Q5. Generate a random sample of size 1000 from a binomial distribution with probability of success 0.4 and plot a histogram of the results using matplotlib.\n",
    "**Ans :-**"
   ]
  },
  {
   "cell_type": "code",
   "execution_count": 3,
   "id": "7727404c",
   "metadata": {},
   "outputs": [
    {
     "data": {
      "image/png": "[encoded data removed]",
      "text/plain": [
       "<Figure size 640x480 with 1 Axes>"
      ]
     },
     "metadata": {},
     "output_type": "display_data"
    }
   ],
   "source": [
    "import numpy as np\n",
    "import matplotlib.pyplot as plt\n",
    "\n",
    "n = 1000\n",
    "p = 0.4\n",
    "random_sample  = np.random.binomial(n=1,p=p,size=n)\n",
    "plt.hist(random_sample, bins=2, edgecolor ='black')\n",
    "plt.title('Histogram of Binomial Distribution Sample')\n",
    "plt.xlabel('Outcome')\n",
    "plt.ylabel('Frequency')\n",
    "plt.xticks([0,1],['Failure','Success'])\n",
    "plt.show()"
   ]
  },
  {
   "cell_type": "markdown",
   "id": "4a4a864c",
   "metadata": {},
   "source": [
    "### Q6. Write a Python function to calculate the cumulative distribution function of a Poisson distribution with given mean at a given point.\n",
    "**Ans :-**"
   ]
  },
  {
   "cell_type": "code",
   "execution_count": 6,
   "id": "d09d26d3",
   "metadata": {},
   "outputs": [
    {
     "name": "stdout",
     "output_type": "stream",
     "text": [
      "CDF value at x =  2 : 0.42319008112684364\n"
     ]
    }
   ],
   "source": [
    "from scipy.stats import poisson\n",
    "def poisson_cdf(x,mu):\n",
    "    cdf_value = poisson.cdf(x,mu)\n",
    "    return cdf_value\n",
    "\n",
    "mu = 3\n",
    "x = 2\n",
    "cdf_value = poisson_cdf(x,mu)\n",
    "print(\"CDF value at x = \",x, \":\",cdf_value)"
   ]
  },
  {
   "cell_type": "markdown",
   "id": "bc1bb101",
   "metadata": {},
   "source": [
    "### Q7. How Binomial distribution different from Poisson distribution?\n",
    "**Ans :-**\n",
    "\n",
    "Here are the main differences between the Binomial and Poisson distributions:\n",
    "\n",
    "1. **Number of Trials**:\n",
    "   - **Binomial Distribution**: Requires a fixed number of independent trials (n) to be specified in advance.\n",
    "   - **Poisson Distribution**: Does not have a fixed number of trials; it models the number of events occurring in a fixed interval of time or space.\n",
    "\n",
    "2. **Nature of Events**:\n",
    "   - **Binomial Distribution**: Describes the number of successes (or failures) in a fixed number of independent trials, where each trial has two possible outcomes (success or failure).\n",
    "   - **Poisson Distribution**: Models the number of events occurring in a fixed interval of time or space, where events happen randomly and independently.\n",
    "\n",
    "3. **Probability of Success**:\n",
    "   - **Binomial Distribution**: Requires specifying the probability of success (p) for each trial.\n",
    "   - **Poisson Distribution**: Does not require specifying the probability of success; instead, it is characterized by the average rate of events (λ) occurring in the fixed interval.\n",
    "\n",
    "4. **Outcome Space**:\n",
    "   - **Binomial Distribution**: Discrete outcome space, as the number of successes is an integer between 0 and the number of trials (n).\n",
    "   - **Poisson Distribution**: Discrete outcome space, as it counts the number of events, which is also an integer.\n",
    "\n",
    "5. **Conditions**:\n",
    "   - **Binomial Distribution**: Applicable when there is a fixed number of independent trials with a constant probability of success.\n",
    "   - **Poisson Distribution**: Applicable when events occur randomly and independently in time or space, and the average rate of occurrence is known.\n",
    "   \n",
    "\n",
    "### Q8. Generate a random sample of size 1000 from a Poisson distribution with mean 5 and calculate the sample mean and variance.\n",
    "**Ans :-**"
   ]
  },
  {
   "cell_type": "code",
   "execution_count": 7,
   "id": "a0b838ac",
   "metadata": {},
   "outputs": [
    {
     "name": "stdout",
     "output_type": "stream",
     "text": [
      "Sample Mean :-  5.031\n",
      "Sample Variance :-  4.8520389999999995\n"
     ]
    }
   ],
   "source": [
    "import numpy as np\n",
    "\n",
    "sample_size = 1000\n",
    "mean = 5\n",
    "random_sample = np.random.poisson(mean, size = sample_size)\n",
    "sample_mean = np.mean(random_sample)\n",
    "sample_variance = np.var(random_sample)\n",
    "print(\"Sample Mean :- \", sample_mean)\n",
    "print(\"Sample Variance :- \",sample_variance)"
   ]
  },
  {
   "cell_type": "markdown",
   "id": "6a698532",
   "metadata": {},
   "source": [
    "### Q9. How mean and variance are related in Binomial distribution and Poisson distribution?\n",
    "**Ans :-** \n",
    "In the binomial distribution, the mean and variance are both dependent on the number of trials and the probability of success, whereas in the Poisson distribution, the mean and variance are equal and solely dependent on the parameter λ, which represents the average rate of events."
   ]
  },
  {
   "cell_type": "markdown",
   "id": "271a4940",
   "metadata": {},
   "source": [
    "### Q10. In normal distribution with respect to mean position, where does the least frequent data appear?\n",
    "**Ans :-**\n",
    "In a normal distribution, the least frequent data appears at the tails of the distribution, which are the points farthest away from the mean. This is because the normal distribution is symmetric around its mean, and the probability density decreases as you move away from the mean towards the tails.\n",
    "\n"
   ]
  }
 ],
 "metadata": {
  "kernelspec": {
   "display_name": "Python 3 (ipykernel)",
   "language": "python",
   "name": "python3"
  },
  "language_info": {
   "codemirror_mode": {
    "name": "ipython",
    "version": 3
   },
   "file_extension": ".py",
   "mimetype": "text/x-python",
   "name": "python",
   "nbconvert_exporter": "python",
   "pygments_lexer": "ipython3",
   "version": "3.8.16"
  }
 },
 "nbformat": 4,
 "nbformat_minor": 5
}
