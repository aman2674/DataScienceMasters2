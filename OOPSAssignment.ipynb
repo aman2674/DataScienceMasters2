{
 "cells": [
  {
   "cell_type": "markdown",
   "id": "c16ceb2f-49a4-4922-8e17-f4661316cb18",
   "metadata": {},
   "source": [
    "***OOPS Assignment***"
   ]
  },
  {
   "cell_type": "markdown",
   "id": "b7953134-15d4-4c69-9128-b6a9b17b44cb",
   "metadata": {},
   "source": [
    "**Q1.** Explain Class and Object with respect to Object-Oriented Programming. Give a suitable example.\n",
    "\n",
    "**Answer :-**\n",
    "A class is a blueprint or template for creating objects in object-oriented programming, while an object is an instance of a class.\n",
    "\n",
    "Example:\n",
    "\n",
    "Class: Car (defines the properties and behaviors of a car)\n",
    "\n",
    "Object: my_car (an instance of the Car class, representing a specific car with its own characteristics and actions)\n"
   ]
  },
  {
   "cell_type": "code",
   "execution_count": 6,
   "id": "f22ba4eb-95ef-47d1-925e-611ade50623c",
   "metadata": {},
   "outputs": [
    {
     "name": "stdout",
     "output_type": "stream",
     "text": [
      "Toyota Camry\n",
      "Honda Civic\n"
     ]
    }
   ],
   "source": [
    "class Car:\n",
    "    def __init__(self, make, model):\n",
    "        self.make = make\n",
    "        self.model = model\n",
    "        print(make,model)\n",
    "my_car = Car(\"Toyota\", \"Camry\")\n",
    "my_car2 = Car(\"Honda\", \"Civic\")\n",
    "\n",
    "#in this, \"Car\" is a class that defines the structure of cars, and my_car1 and my_car2 are objects of the Car class.,"
   ]
  },
  {
   "cell_type": "markdown",
   "id": "eb817257-9a0b-4d1b-b875-e92ab04e2835",
   "metadata": {},
   "source": [
    "---\n",
    "**Q2.** Name the four pillars of OOPs.\n",
    "\n",
    "**Answer :-** The four pillars of Object-Oriented Programming (OOP) are:\n",
    "\n",
    "1. Encapsulation\n",
    "2. Abstraction\n",
    "3. Inheritance\n",
    "4. Polymorphism\n",
    "---\n",
    "**Q3.** Explain why the __ init __() function is used. Give a suitable example.\n",
    "\n",
    "**Answer :-** \n",
    "The __ init __() function is used in Python to initialize the attributes (properties) of an object when it is created, ensuring that the object starts with predefined values\n"
   ]
  },
  {
   "cell_type": "code",
   "execution_count": 10,
   "id": "82ff6430-6ec5-43be-a146-38cda1fc5211",
   "metadata": {},
   "outputs": [
    {
     "name": "stdout",
     "output_type": "stream",
     "text": [
      "Aman\n",
      "24\n"
     ]
    }
   ],
   "source": [
    "class Person:\n",
    "    def __init__(self, name, age):\n",
    "        self.name = name\n",
    "        self.age = age\n",
    "\n",
    "person1 = Person(\"Aman\", 24)\n",
    "print(person1.name)\n",
    "print(person1.age)"
   ]
  },
  {
   "cell_type": "markdown",
   "id": "220e558c-bdf6-4093-ae84-f11265bd2135",
   "metadata": {},
   "source": [
    "---\n",
    "**Q4.** Why self is used in OOPs?\n",
    "\n",
    "**Answer :-**\n",
    "self is used as a convention to refer to the instance of the class within its own methods. It allows you to access and manipulate the attributes and methods of the object that the method is being called on."
   ]
  },
  {
   "cell_type": "code",
   "execution_count": 11,
   "id": "dedcc1df-5b64-4fe9-8c1d-ddb17e971177",
   "metadata": {},
   "outputs": [
    {
     "name": "stdout",
     "output_type": "stream",
     "text": [
      "Hello my name is Aman and my age is 24 \n"
     ]
    }
   ],
   "source": [
    "class Person:\n",
    "    def __init__(self, name, age):\n",
    "        self.name = name\n",
    "        self.age = age\n",
    "    def greet(self):\n",
    "        print(f\"Hello my name is {self.name} and my age is {self.age} \")\n",
    "\n",
    "person1 = Person(\"Aman\", 24)\n",
    "person1.greet()"
   ]
  },
  {
   "cell_type": "markdown",
   "id": "07728f8e-77c6-49b0-a34b-b646bcae12cf",
   "metadata": {},
   "source": [
    "---\n",
    "**Q5.** What is inheritance? Give an example for each type of inheritance.\n",
    "\n",
    "**Answer :-** Inheritance is an OOPs concept where a new class (subclass class) can inherit properties and behaviors (attributes and methods) from an existing class (superclass class)"
   ]
  },
  {
   "cell_type": "code",
   "execution_count": 13,
   "id": "9f064882-34f3-4d04-a7fd-2baf4525cfe1",
   "metadata": {},
   "outputs": [
    {
     "name": "stdout",
     "output_type": "stream",
     "text": [
      "Aman\n",
      "24\n"
     ]
    }
   ],
   "source": [
    "#Single Inheritance\n",
    "class class1:\n",
    "    def name(self,name_value):\n",
    "        print(name_value)\n",
    "\n",
    "class class2(class1):\n",
    "    def age(self,age_value):\n",
    "        print(age_value)\n",
    "obj = class2()\n",
    "obj.name(\"Aman\")\n",
    "obj.age(24)"
   ]
  },
  {
   "cell_type": "code",
   "execution_count": 15,
   "id": "894ba948-7518-4509-ab5b-8c4c74844b09",
   "metadata": {},
   "outputs": [
    {
     "name": "stdout",
     "output_type": "stream",
     "text": [
      "Aman\n",
      "24\n",
      "Male\n"
     ]
    }
   ],
   "source": [
    "#Multilevel Inheritance\n",
    "class class1:\n",
    "    def name(self,name_value):\n",
    "        print(name_value)\n",
    "\n",
    "class class2(class1):\n",
    "    def age(self,age_value):\n",
    "        print(age_value)\n",
    "        \n",
    "class class3(class2):\n",
    "    def gender(self,gender_value):\n",
    "        print(gender_value)\n",
    "obj = class3()\n",
    "obj.name(\"Aman\")\n",
    "obj.age(24)\n",
    "obj.gender(\"Male\")"
   ]
  },
  {
   "cell_type": "code",
   "execution_count": 16,
   "id": "7fae6ea2-7928-467c-895d-eab681f7330e",
   "metadata": {},
   "outputs": [
    {
     "name": "stdout",
     "output_type": "stream",
     "text": [
      "Aman\n",
      "24\n",
      "Male\n"
     ]
    }
   ],
   "source": [
    "#Multiple Inheritance\n",
    "class class1:\n",
    "    def name(self,name_value):\n",
    "        print(name_value)\n",
    "\n",
    "class class2():\n",
    "    def age(self,age_value):\n",
    "        print(age_value)\n",
    "        \n",
    "class class3(class2,class1):\n",
    "    def gender(self,gender_value):\n",
    "        print(gender_value)\n",
    "obj = class3()\n",
    "obj.name(\"Aman\")\n",
    "obj.age(24)\n",
    "obj.gender(\"Male\")"
   ]
  },
  {
   "cell_type": "markdown",
   "id": "abf55aa8-b8bd-4432-9699-2389f760f6d9",
   "metadata": {},
   "source": [
    "---\n",
    "---"
   ]
  }
 ],
 "metadata": {
  "kernelspec": {
   "display_name": "Python 3 (ipykernel)",
   "language": "python",
   "name": "python3"
  },
  "language_info": {
   "codemirror_mode": {
    "name": "ipython",
    "version": 3
   },
   "file_extension": ".py",
   "mimetype": "text/x-python",
   "name": "python",
   "nbconvert_exporter": "python",
   "pygments_lexer": "ipython3",
   "version": "3.10.12"
  }
 },
 "nbformat": 4,
 "nbformat_minor": 5
}
