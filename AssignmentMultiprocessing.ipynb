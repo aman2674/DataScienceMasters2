{
 "cells": [
  {
   "cell_type": "markdown",
   "id": "88996eb4",
   "metadata": {},
   "source": [
    "# Assignment Multiprocessing"
   ]
  },
  {
   "cell_type": "markdown",
   "id": "abf64194",
   "metadata": {},
   "source": [
    "### Q1. What is multiprocessing in python? Why is it useful?\n",
    "**Ans:-** Multiprocessing in Python refers to the concurrent execution of multiple processes. Unlike multithreading, where multiple threads share the same memory space, multiprocessing involves the creation of separate processes, each with its own memory space. Each process runs independently, allowing for true parallelism, especially on systems with multiple CPU cores.\n",
    "\n",
    "**Usefulness of Multiprocessing in Python**\n",
    "- Parallel Execution: Multiprocessing allows different processes to run concurrently, taking advantage of multiple CPU cores. This leads to improved performance for CPU-bound tasks.\n",
    "- Avoiding Global Interpreter Lock (GIL): In CPython, the Global Interpreter Lock (GIL) restricts the execution of multiple threads in true parallel fashion. Multiprocessing allows Python to bypass the GIL limitation by using separate processes, each with its own interpreter and memory space.\n",
    "- Isolation of Memory Space: Each process has its own memory space, which eliminates the need for complex synchronization mechanisms used in multithreading. Processes do not share global variables, reducing the likelihood of race conditions.\n",
    "- Improved Stability: Multiprocessing can enhance program stability since a crash in one process is less likely to affect others. Isolation of memory space contributes to better fault tolerance.\n",
    "\n",
    "\n",
    "### Q2. What are the differences between multiprocessing and multithreading?\n",
    "**Ans:-**\n",
    "**Differences between Multiprocessing and Multithreading in Python:**\n",
    "\n",
    "1. **Memory Space:**\n",
    "   - **Multiprocessing:** Each process has its own separate memory space. Processes do not share memory by default.\n",
    "   - **Multithreading:** All threads within a process share the same memory space, which can lead to potential data synchronization issues.\n",
    "\n",
    "2. **Concurrency Mechanism:**\n",
    "   - **Multiprocessing:** Processes run independently and have their own Global Interpreter Lock (GIL). True parallelism is achieved by running multiple processes on multiple CPU cores.\n",
    "   - **Multithreading:** Threads share the GIL in CPython, limiting true parallelism. Multithreading is more suitable for I/O-bound tasks.\n",
    "\n",
    "3. **Parallel Execution:**\n",
    "   - **Multiprocessing:** Suitable for CPU-bound tasks as it allows true parallel execution on multiple CPU cores.\n",
    "   - **Multithreading:** More suitable for I/O-bound tasks where threads can wait for I/O operations without blocking others.\n",
    "\n",
    "4. **Fault Tolerance:**\n",
    "   - **Multiprocessing:** Processes are isolated, so a crash in one process is less likely to affect others. Improved fault tolerance.\n",
    "   - **Multithreading:** Threads share the same memory space, and a crash in one thread can potentially impact the entire process.\n",
    "\n",
    "### Q3. Write a python code to create a process using the multiprocessing module.\n",
    "**Ans:-**"
   ]
  },
  {
   "cell_type": "code",
   "execution_count": 4,
   "id": "858b09e2",
   "metadata": {},
   "outputs": [
    {
     "name": "stdout",
     "output_type": "stream",
     "text": [
      "Main process is complete.\n"
     ]
    },
    {
     "name": "stderr",
     "output_type": "stream",
     "text": [
      "Traceback (most recent call last):\n",
      "  File \"<string>\", line 1, in <module>\n",
      "  File \"/opt/homebrew/Caskroom/miniforge/base/envs/AI/lib/python3.8/multiprocessing/spawn.py\", line 116, in spawn_main\n",
      "    exitcode = _main(fd, parent_sentinel)\n",
      "  File \"/opt/homebrew/Caskroom/miniforge/base/envs/AI/lib/python3.8/multiprocessing/spawn.py\", line 126, in _main\n",
      "    self = reduction.pickle.load(from_parent)\n",
      "AttributeError: Can't get attribute 'print_process_info' on <module '__main__' (built-in)>\n"
     ]
    }
   ],
   "source": [
    "import multiprocessing\n",
    "import os\n",
    "\n",
    "def print_process_info():\n",
    "    \"\"\"Function to print process information.\"\"\"\n",
    "    process_id = os.getpid()\n",
    "    process_name = multiprocessing.current_process().name\n",
    "    print(f\"Process ID: {process_id}, Process Name: {process_name}\")\n",
    "\n",
    "if __name__ == \"__main__\":\n",
    "    # Create a process\n",
    "    my_process = multiprocessing.Process(target=print_process_info, name=\"MyProcess\")\n",
    "\n",
    "    # Start the process\n",
    "    my_process.start()\n",
    "\n",
    "    # Wait for the process to finish\n",
    "    my_process.join()\n",
    "\n",
    "    print(\"Main process is complete.\")\n"
   ]
  },
  {
   "cell_type": "markdown",
   "id": "aa2e7b64",
   "metadata": {},
   "source": [
    "### Q4. What is a multiprocessing pool in python? Why is it used?\n",
    "**Ans:-**\n",
    "\n",
    "A multiprocessing pool in Python refers to a pool of worker processes that can be used to parallelize the execution of a function across a large dataset. The multiprocessing module provides the Pool class, which is a high-level interface for parallel execution of tasks. The pool distributes the workload among its worker processes, allowing them to work concurrently.\n",
    "\n",
    "**Key characteristics:-**\n",
    "\n",
    "- Parallel Execution: The primary purpose of a multiprocessing pool is to enable parallel execution of a function across multiple processes. This is particularly beneficial for CPU-bound tasks where parallelization can lead to improved performance.\n",
    "- Task Distribution: The pool automatically distributes the workload (tasks) among its worker processes. This is done by dividing the input data into chunks, and each process works on a separate chunk.\n",
    "- Ease of Use: The Pool class provides a high-level and convenient interface for parallelizing tasks, making it easier for developers to implement parallel processing without dealing with low-level details.\n",
    "- Improved Resource Utilization: A multiprocessing pool efficiently utilizes available CPU cores, allowing multiple processes to execute concurrently. This can lead to better resource utilization on systems with multi-core processors.\n",
    "- Asynchronous Execution: The Pool class supports asynchronous execution of tasks. This means that the main program can continue its execution while the pool processes are working on their assigned tasks.\n",
    "\n",
    "### Q5. How can we create a pool of worker processes in python using the multiprocessing module?\n",
    "**Ans:-**"
   ]
  },
  {
   "cell_type": "code",
   "execution_count": null,
   "id": "63b0f887",
   "metadata": {},
   "outputs": [],
   "source": [
    "import multiprocessing\n",
    "\n",
    "def square(number):\n",
    "    return number * number\n",
    "\n",
    "if __name__ == \"__main__\":\n",
    "    # Create a multiprocessing pool with 4 worker processes\n",
    "    with multiprocessing.Pool(processes=4) as pool:\n",
    "        # Input data (list of numbers)\n",
    "        numbers = [1, 2, 3, 4, 5]\n",
    "\n",
    "        # Use the map function to apply the square function to each number in parallel\n",
    "        results = pool.map(square, numbers)\n",
    "\n",
    "        print(\"Original Numbers:\", numbers)\n",
    "        print(\"Squared Numbers:\", results)"
   ]
  },
  {
   "cell_type": "markdown",
   "id": "c1803063",
   "metadata": {},
   "source": [
    "### Q6. Write a python program to create 4 processes, each process should print a different number using the multiprocessing module in python.\n",
    "**Ans:-**"
   ]
  },
  {
   "cell_type": "code",
   "execution_count": null,
   "id": "699d0be8",
   "metadata": {},
   "outputs": [],
   "source": [
    "import multiprocessing\n",
    "\n",
    "def print_number(number):\n",
    "    print(f\"Process {number}: My number is {number}\")\n",
    "\n",
    "if __name__ == \"__main__\":\n",
    "    # Create a pool of 4 worker processes\n",
    "    with multiprocessing.Pool(processes=4) as pool:\n",
    "        # Use the map function to apply the print_number function to each process\n",
    "        pool.map(print_number, range(1, 5))"
   ]
  }
 ],
 "metadata": {
  "kernelspec": {
   "display_name": "Python 3 (ipykernel)",
   "language": "python",
   "name": "python3"
  },
  "language_info": {
   "codemirror_mode": {
    "name": "ipython",
    "version": 3
   },
   "file_extension": ".py",
   "mimetype": "text/x-python",
   "name": "python",
   "nbconvert_exporter": "python",
   "pygments_lexer": "ipython3",
   "version": "3.8.16"
  }
 },
 "nbformat": 4,
 "nbformat_minor": 5
}
