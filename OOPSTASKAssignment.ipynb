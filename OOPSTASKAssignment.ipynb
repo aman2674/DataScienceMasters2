{
 "cells": [
  {
   "cell_type": "markdown",
   "id": "793361ed-f436-438b-a0eb-ea240b9f3ff3",
   "metadata": {},
   "source": [
    "# ***OOPS TASK Assignment***\n",
    "**Q1.** Create a vehicle class with an init method having instance variables as name_of_vehicle, max_speed\n",
    "and average_of_vehicle.\n",
    "\n",
    "**Answer :-**"
   ]
  },
  {
   "cell_type": "code",
   "execution_count": 8,
   "id": "aa52f7c0-873a-4a28-93ec-5bcf57ac9a80",
   "metadata": {},
   "outputs": [],
   "source": [
    "class vehicle():\n",
    "    def __init__(self,name_of_vehicle,max_speed,average_of_vehicle):\n",
    "        self.name_of_vehicle = name_of_vehicle\n",
    "        self.max_speed = max_speed\n",
    "        self.average_of_vehicle = average_of_vehicle"
   ]
  },
  {
   "cell_type": "markdown",
   "id": "80f69178-758e-42bf-9bd1-2a4d2d1fb69c",
   "metadata": {},
   "source": [
    "---\n",
    "**Q2.** Create a child class car from the vehicle class created in Que 1, which will inherit the vehicle class.\n",
    "Create a method named seating_capacity which takes capacity as an argument and returns the name of\n",
    "the vehicle and its seating capacity.\n",
    "\n",
    "**Answer :-**"
   ]
  },
  {
   "cell_type": "code",
   "execution_count": 23,
   "id": "ef61d338-f3ad-4f3b-872d-b707e16c754b",
   "metadata": {},
   "outputs": [],
   "source": [
    "class car(vehicle):\n",
    "    def seating_capacity(self,capacity):\n",
    "        return(self.name_of_vehicle,capacity)"
   ]
  },
  {
   "cell_type": "code",
   "execution_count": 24,
   "id": "057ad991-cd7d-4a75-a639-62f2f36517e9",
   "metadata": {},
   "outputs": [
    {
     "name": "stdout",
     "output_type": "stream",
     "text": [
      "('BMW', 2)\n"
     ]
    }
   ],
   "source": [
    "obj = car(\"BMW\",25,12)\n",
    "print(obj.seating_capacity(2))\n"
   ]
  },
  {
   "cell_type": "markdown",
   "id": "023f4cd3-9510-42f1-8095-dd94bfa12010",
   "metadata": {},
   "source": [
    "---\n",
    "**Q3.** What is multiple inheritance? Write a python code to demonstrate multiple inheritance.\n",
    "\n",
    "**Answer :-** A subclass can inherit from multiple superclasses."
   ]
  },
  {
   "cell_type": "code",
   "execution_count": 25,
   "id": "2f92e61f-9910-406e-83be-80402ee05c2a",
   "metadata": {},
   "outputs": [
    {
     "name": "stdout",
     "output_type": "stream",
     "text": [
      "Aman\n",
      "24\n",
      "Male\n"
     ]
    }
   ],
   "source": [
    "#Multiple Inheritance\n",
    "class class1:\n",
    "    def name(self,name_value):\n",
    "        print(name_value)\n",
    "\n",
    "class class2():\n",
    "    def age(self,age_value):\n",
    "        print(age_value)\n",
    "        \n",
    "class class3(class2,class1):\n",
    "    def gender(self,gender_value):\n",
    "        print(gender_value)\n",
    "obj = class3()\n",
    "obj.name(\"Aman\")\n",
    "obj.age(24)\n",
    "obj.gender(\"Male\")"
   ]
  },
  {
   "cell_type": "markdown",
   "id": "d660af32-578a-4673-8e2b-9c4268cdc3e1",
   "metadata": {},
   "source": [
    "---\n",
    "**Q4.** What are getter and setter in python? Create a class and create a getter and a setter method in this\n",
    "class.\n",
    "\n",
    "**Answer :-** getters and setters are methods used to access and modify the attributes (instance variables) of a class in a controlled manner. "
   ]
  },
  {
   "cell_type": "code",
   "execution_count": 27,
   "id": "38c1a4d8-fb57-4bfc-8875-441762b7b293",
   "metadata": {},
   "outputs": [
    {
     "name": "stdout",
     "output_type": "stream",
     "text": [
      "Initial name: Aman\n",
      "Updated name: Rudra\n",
      "Initial age: 24\n",
      "Updated age: 25\n"
     ]
    }
   ],
   "source": [
    "class Student:\n",
    "    def __init__(self, name, age):\n",
    "        self._name = name  # private attribute \n",
    "        self._age = age\n",
    "\n",
    "    def get_name(self):\n",
    "        return self._name\n",
    "\n",
    "    def set_name(self, name):\n",
    "        if isinstance(name, str):\n",
    "            self._name = name\n",
    "        else:\n",
    "            print(\"Name should be a string.\")\n",
    "\n",
    "    def get_age(self):\n",
    "        return self._age\n",
    "\n",
    "    def set_age(self, age):\n",
    "        if age >= 0:\n",
    "            self._age = age\n",
    "        else:\n",
    "            print(\"Age should be a non-negative integer.\")\n",
    "\n",
    "student1 = Student(\"Aman\", 24)\n",
    "\n",
    "print(\"Initial name:\", student1.get_name())\n",
    "student1.set_name(\"Rudra\")\n",
    "print(\"Updated name:\", student1.get_name())\n",
    "\n",
    "print(\"Initial age:\", student1.get_age())\n",
    "student1.set_age(25)\n",
    "print(\"Updated age:\", student1.get_age())\n"
   ]
  },
  {
   "cell_type": "markdown",
   "id": "4771b57f-4b75-4955-ba88-be25ce569587",
   "metadata": {},
   "source": [
    "---\n",
    "**Q5.** What is method overriding in python? Write a python code to demonstrate method overriding.\n",
    "\n",
    "**Answer :-** Method overriding in Python is a feature of OOPs that allows a subclass to provide a specific implementation of a method that is already defined in its superclass. "
   ]
  },
  {
   "cell_type": "code",
   "execution_count": 28,
   "id": "007435d1-7dd9-4f38-b6c2-1e7562b00620",
   "metadata": {},
   "outputs": [
    {
     "name": "stdout",
     "output_type": "stream",
     "text": [
      "Woof!\n",
      "Meow!\n"
     ]
    }
   ],
   "source": [
    "class Animal:\n",
    "    def speak(self):\n",
    "        return \"Animal speaks\"\n",
    "\n",
    "class Dog(Animal):\n",
    "    def speak(self):\n",
    "        return \"Woof!\"\n",
    "\n",
    "class Cat(Animal):\n",
    "    def speak(self):\n",
    "        return \"Meow!\"\n",
    "\n",
    "dog = Dog()\n",
    "cat = Cat()\n",
    "\n",
    "print(dog.speak()\n",
    "print(cat.speak()) "
   ]
  },
  {
   "cell_type": "code",
   "execution_count": null,
   "id": "61a934c2-bf5e-4d9c-b17b-14e4f8b4d20b",
   "metadata": {},
   "outputs": [],
   "source": []
  }
 ],
 "metadata": {
  "kernelspec": {
   "display_name": "Python 3 (ipykernel)",
   "language": "python",
   "name": "python3"
  },
  "language_info": {
   "codemirror_mode": {
    "name": "ipython",
    "version": 3
   },
   "file_extension": ".py",
   "mimetype": "text/x-python",
   "name": "python",
   "nbconvert_exporter": "python",
   "pygments_lexer": "ipython3",
   "version": "3.10.12"
  }
 },
 "nbformat": 4,
 "nbformat_minor": 5
}
