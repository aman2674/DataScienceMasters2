{
 "cells": [
  {
   "cell_type": "markdown",
   "id": "e14de560",
   "metadata": {},
   "source": [
    "# Assignment MongoDB"
   ]
  },
  {
   "cell_type": "markdown",
   "id": "09bda62f",
   "metadata": {},
   "source": [
    "### Q1. What is MongoDB? Explain non-relational databases in short. In which scenarios it is preferred to use MongoDB over SQL databases?\n",
    "**Ans:-**\n",
    "\n",
    "MongoDB is a popular open-source NoSQL database management system that falls under the category of document-oriented databases. It stores data in flexible, JSON-like documents, where fields can vary from document to document. This flexibility allows for a dynamic and scalable approach to data storage.\n",
    "\n",
    "Non-relational databases, also known as NoSQL databases, differ from traditional relational databases (such as SQL databases) in terms of data model and storage mechanisms. Non-relational databases are designed to handle large volumes of unstructured or semi-structured data. \n",
    "\n",
    "\n",
    "**MongoDB** is a popular open-source NoSQL database management system that falls under the category of document-oriented databases. It stores data in flexible, JSON-like documents, where fields can vary from document to document. This flexibility allows for a dynamic and scalable approach to data storage.\n",
    "\n",
    "**Non-relational databases**, also known as NoSQL databases, differ from traditional relational databases (such as SQL databases) in terms of data model and storage mechanisms. Non-relational databases are designed to handle large volumes of unstructured or semi-structured data. They provide a more flexible schema, allowing for easier and quicker development and adaptation to changing data requirements.\n",
    "\n",
    "### Q2. State and Explain the features of MongoDB.\n",
    "\n",
    "**Ans:-**\n",
    "**Scenarios where MongoDB is preferred over SQL databases:**\n",
    "\n",
    "1. **Flexible Schema:** When dealing with dynamic and evolving data structures, MongoDB's flexible schema is advantageous. This is particularly useful in scenarios where data models are subject to frequent changes.\n",
    "\n",
    "2. **Large Amounts of Unstructured Data:** MongoDB is well-suited for handling large amounts of unstructured or semi-structured data, such as JSON-like documents.\n",
    "\n",
    "3. **Horizontal Scaling:** If your application requires horizontal scaling to handle increased load, MongoDB's architecture supports it effectively.\n",
    "\n",
    "4. **Development Speed:** MongoDB allows developers to work quickly and adapt to changes without the need for rigid schema definitions, making it suitable for agile development environments.\n",
    "\n",
    "5. **Real-time Applications:** For applications that demand real-time data access and analysis, MongoDB's ability to handle large volumes of data and provide quick read and write operations is advantageous.\n",
    "\n",
    "\n",
    "**MongoDB, as a NoSQL database, comes with several features that make it popular for various applications. Here are some key features of MongoDB:**\n",
    "\n",
    "1. **Document-Oriented:**\n",
    "   - MongoDB stores data in flexible, JSON-like documents called BSON (Binary JSON). Each document can have a different structure, allowing for a more dynamic and scalable approach to data representation.\n",
    "\n",
    "2. **Dynamic Schema:**\n",
    "   - Unlike traditional relational databases with a fixed schema, MongoDB has a dynamic schema that allows for easy modification and addition of fields to documents without requiring a predefined structure.\n",
    "\n",
    "3. **Scalability:**\n",
    "   - MongoDB supports horizontal scaling through sharding, allowing the distribution of data across multiple servers. This helps handle large amounts of data and traffic by adding more servers to the database cluster.\n",
    "\n",
    "4. **Indexing:**\n",
    "   - MongoDB supports indexing on fields to optimize query performance. Indexes can be created on any field, including those within arrays and sub-documents.\n",
    "\n",
    "5. **Query Language:**\n",
    "   - MongoDB uses a rich and expressive query language that supports a wide range of queries, including filtering, sorting, and aggregation. It also supports regular expressions for pattern matching.\n",
    "   \n",
    "   \n",
    "### Q3. Write a code to connect MongoDB to Python. Also, create a database and a collection in MongoDB.\n",
    "**Ans:-**"
   ]
  },
  {
   "cell_type": "code",
   "execution_count": null,
   "id": "928eca4b",
   "metadata": {},
   "outputs": [],
   "source": [
    "import pymongo\n",
    "\n",
    "\n",
    "client = pymongo.MongoClient(\"localhost:5000\")\n",
    "my_database = client[\"mydatabase\"]\n",
    "my_collection = my_database[\"mycollection\"]\n",
    "data_to_insert = {\"name\": \"John Doe\", \"age\": 30, \"city\": \"New York\"}\n",
    "inserted_document = my_collection.insert_one(data_to_insert)"
   ]
  },
  {
   "cell_type": "markdown",
   "id": "015e7a9c",
   "metadata": {},
   "source": [
    "### Q4. Using the database and the collection created in question number 3, write a code to insert one record, and insert many records. Use the find() and find_one() methods to print the inserted record.\n",
    "**Ans:-**"
   ]
  },
  {
   "cell_type": "code",
   "execution_count": null,
   "id": "57f7f31e",
   "metadata": {},
   "outputs": [],
   "source": [
    "# Insert many records\n",
    "many_records_to_insert = [\n",
    "    {\"name\": \"Bob\", \"age\": 28, \"city\": \"Paris\"},\n",
    "    {\"name\": \"Charlie\", \"age\": 35, \"city\": \"Berlin\"},\n",
    "    {\"name\": \"David\", \"age\": 22, \"city\": \"Tokyo\"}\n",
    "]\n",
    "my_collection.insert_many(many_records_to_insert)\n",
    "\n",
    "# Find and print one record\n",
    "found_one_record = my_collection.find_one({\"name\": \"Alice\"})\n",
    "print(\"Found One Record:\", found_one_record)\n",
    "\n",
    "# Find and print all records\n",
    "all_records = my_collection.find()\n",
    "print(\"\\nAll Records:\")\n",
    "for record in all_records:\n",
    "    print(record)\n",
    "\n",
    "client.close()"
   ]
  },
  {
   "cell_type": "markdown",
   "id": "fdb5adb6",
   "metadata": {},
   "source": [
    "### Q5. Explain how you can use the find() method to query the MongoDB database. Write a simple code to demonstrate this.\n",
    "**Ans:-**"
   ]
  },
  {
   "cell_type": "code",
   "execution_count": null,
   "id": "58e1b883",
   "metadata": {},
   "outputs": [],
   "source": [
    "import pymongo\n",
    "\n",
    "\n",
    "client = pymongo.MongoClient(\"localhost:5000\")\n",
    "my_database = client[\"mydatabase\"]\n",
    "my_collection = my_database[\"mycollection\"]\n",
    "\n",
    "sample_data = [\n",
    "    {\"name\": \"John\", \"age\": 30, \"city\": \"New York\"},\n",
    "    {\"name\": \"Alice\", \"age\": 25, \"city\": \"London\"},\n",
    "    {\"name\": \"Bob\", \"age\": 28, \"city\": \"Paris\"},\n",
    "    {\"name\": \"Charlie\", \"age\": 35, \"city\": \"Berlin\"},\n",
    "    {\"name\": \"David\", \"age\": 22, \"city\": \"Tokyo\"}\n",
    "]\n",
    "\n",
    "my_collection.insert_many(sample_data)\n",
    "\n",
    "result = my_collection.find({\"city\": \"New York\"}, {\"name\": 1, \"age\": 1, \"_id\": 0}).sort(\"age\", 1).limit(2)\n",
    "\n",
    "for document in result:\n",
    "    print(document)\n",
    "client.close()"
   ]
  },
  {
   "cell_type": "markdown",
   "id": "f20cd692",
   "metadata": {},
   "source": [
    "### Q6. Explain the sort() method. Give an example to demonstrate sorting in MongoDB.\n",
    "\n",
    "**Ans:-**\n",
    "The sort() method in MongoDB is used to sort the results of a query based on one or more fields. It allows you to specify the sorting order (ascending or descending) for each field. "
   ]
  },
  {
   "cell_type": "code",
   "execution_count": null,
   "id": "d129c801",
   "metadata": {},
   "outputs": [],
   "source": [
    "import pymongo\n",
    "\n",
    "\n",
    "client = pymongo.MongoClient(\"localhost:5000\")\n",
    "my_database = client[\"mydatabase\"]\n",
    "my_collection = my_database[\"mycollection\"]\n",
    "\n",
    "sample_data = [\n",
    "    {\"name\": \"John\", \"age\": 30, \"city\": \"New York\"},\n",
    "    {\"name\": \"Alice\", \"age\": 25, \"city\": \"London\"},\n",
    "    {\"name\": \"Bob\", \"age\": 28, \"city\": \"Paris\"},\n",
    "    {\"name\": \"Charlie\", \"age\": 35, \"city\": \"Berlin\"},\n",
    "    {\"name\": \"David\", \"age\": 22, \"city\": \"Tokyo\"}\n",
    "]\n",
    "\n",
    "my_collection.insert_many(sample_data)\n",
    "result_asc = my_collection.find().sort(\"age\", 1)  # Sorting by age in ascending order\n",
    "result_desc = my_collection.find().sort(\"age\", -1)  # Sorting by age in descending order\n"
   ]
  },
  {
   "cell_type": "markdown",
   "id": "1bb7cfe9",
   "metadata": {},
   "source": [
    "### Q7. Explain why delete_one(), delete_many(), and drop() is used.\n",
    "**Ans:-**\n",
    "\n",
    "In MongoDB, the delete_one(), delete_many(), and drop() methods are used for different purposes related to the removal of data from the database. \n",
    "\n",
    "1. delete_one() Method: Removes a single document from a collection that matches a specified filter.\n",
    "2. delete_many() Method: Removes multiple documents from a collection that match a specified filter.\n",
    "3. drop() Method: Drops (deletes) an entire collection from the database."
   ]
  }
 ],
 "metadata": {
  "kernelspec": {
   "display_name": "Python 3 (ipykernel)",
   "language": "python",
   "name": "python3"
  },
  "language_info": {
   "codemirror_mode": {
    "name": "ipython",
    "version": 3
   },
   "file_extension": ".py",
   "mimetype": "text/x-python",
   "name": "python",
   "nbconvert_exporter": "python",
   "pygments_lexer": "ipython3",
   "version": "3.8.16"
  }
 },
 "nbformat": 4,
 "nbformat_minor": 5
}
